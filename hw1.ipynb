{
  "cells": [
    {
      "cell_type": "markdown",
      "metadata": {
        "id": "TEEKQwtYDMUz"
      },
      "source": [
        "**SOFT DEADLINE:** `20.03.2022 23:59 msk` "
      ]
    },
    {
      "cell_type": "markdown",
      "metadata": {
        "id": "g-IAo9sYDMU-"
      },
      "source": [
        "# [5 points] Part 1. Data cleaning"
      ]
    },
    {
      "cell_type": "markdown",
      "metadata": {
        "id": "-SNyjuGjDMU_"
      },
      "source": [
        "The task is to clear the text data of the crawled web-pages from different sites. \n",
        "\n",
        "It is necessary to ensure that the distribution of the 100 most frequent words includes only meaningful words in english language (not particles, conjunctions, prepositions, numbers, tags, symbols)."
      ]
    },
    {
      "cell_type": "markdown",
      "metadata": {
        "id": "TA4VkGl2DMVB"
      },
      "source": [
        "Determine the order of operations below and carry out the appropriate cleaning.\n",
        "\n",
        "1. Remove non-english words\n",
        "1. Remove html-tags (try to do it with regular expression, or play with beautifulsoap library)\n",
        "1. Apply lemmatization / stemming\n",
        "1. Remove stop-words\n",
        "1. Additional processing - At your own initiative, if this helps to obtain a better distribution"
      ]
    },
    {
      "cell_type": "markdown",
      "metadata": {
        "id": "hjLsB9pdDMVC"
      },
      "source": [
        "#### Hints"
      ]
    },
    {
      "cell_type": "markdown",
      "metadata": {
        "id": "mk6ZLncvDMVD"
      },
      "source": [
        "1. To do text processing you may use nltk and re libraries\n",
        "1. and / or any other libraries on your choise"
      ]
    },
    {
      "cell_type": "markdown",
      "metadata": {
        "id": "KCbTa1OiDMVE"
      },
      "source": [
        "#### Data reading"
      ]
    },
    {
      "cell_type": "markdown",
      "metadata": {
        "id": "cXbG649IDMVG"
      },
      "source": [
        "The dataset for this part can be downloaded here: `https://drive.google.com/file/d/1wLwo83J-ikCCZY2RAoYx8NghaSaQ-lBA/view?usp=sharing`"
      ]
    },
    {
      "cell_type": "code",
      "execution_count": 1,
      "metadata": {
        "id": "HN8UxSDkDMVH"
      },
      "outputs": [
        {
          "data": {
            "text/html": [
              "<div>\n",
              "<style scoped>\n",
              "    .dataframe tbody tr th:only-of-type {\n",
              "        vertical-align: middle;\n",
              "    }\n",
              "\n",
              "    .dataframe tbody tr th {\n",
              "        vertical-align: top;\n",
              "    }\n",
              "\n",
              "    .dataframe thead th {\n",
              "        text-align: right;\n",
              "    }\n",
              "</style>\n",
              "<table border=\"1\" class=\"dataframe\">\n",
              "  <thead>\n",
              "    <tr style=\"text-align: right;\">\n",
              "      <th></th>\n",
              "      <th>text</th>\n",
              "    </tr>\n",
              "  </thead>\n",
              "  <tbody>\n",
              "    <tr>\n",
              "      <th>0</th>\n",
              "      <td>&lt;html&gt;\\n&lt;head profile=\"http://www.w3.org/2005/...</td>\n",
              "    </tr>\n",
              "    <tr>\n",
              "      <th>1</th>\n",
              "      <td>&lt;html&gt;\\n&lt;head profile=\"http://www.w3.org/2005/...</td>\n",
              "    </tr>\n",
              "    <tr>\n",
              "      <th>2</th>\n",
              "      <td>&lt;html&gt;\\n&lt;head profile=\"http://www.w3.org/2005/...</td>\n",
              "    </tr>\n",
              "    <tr>\n",
              "      <th>3</th>\n",
              "      <td>&lt;html&gt;\\n&lt;head profile=\"http://www.w3.org/2005/...</td>\n",
              "    </tr>\n",
              "    <tr>\n",
              "      <th>4</th>\n",
              "      <td>&lt;html&gt;\\n&lt;head profile=\"http://www.w3.org/2005/...</td>\n",
              "    </tr>\n",
              "    <tr>\n",
              "      <th>5</th>\n",
              "      <td>&lt;html&gt;\\n&lt;head profile=\"http://www.w3.org/2005/...</td>\n",
              "    </tr>\n",
              "    <tr>\n",
              "      <th>6</th>\n",
              "      <td>&lt;html&gt;\\n&lt;head profile=\"http://www.w3.org/2005/...</td>\n",
              "    </tr>\n",
              "  </tbody>\n",
              "</table>\n",
              "</div>"
            ],
            "text/plain": [
              "                                                text\n",
              "0  <html>\\n<head profile=\"http://www.w3.org/2005/...\n",
              "1  <html>\\n<head profile=\"http://www.w3.org/2005/...\n",
              "2  <html>\\n<head profile=\"http://www.w3.org/2005/...\n",
              "3  <html>\\n<head profile=\"http://www.w3.org/2005/...\n",
              "4  <html>\\n<head profile=\"http://www.w3.org/2005/...\n",
              "5  <html>\\n<head profile=\"http://www.w3.org/2005/...\n",
              "6  <html>\\n<head profile=\"http://www.w3.org/2005/..."
            ]
          },
          "execution_count": 1,
          "metadata": {},
          "output_type": "execute_result"
        }
      ],
      "source": [
        "import pandas as pd\n",
        "df = pd.read_csv('web_sites_data.csv', sep=';', index_col=None)\n",
        "df.head(7)"
      ]
    },
    {
      "cell_type": "markdown",
      "metadata": {
        "id": "fGBTg9g4DMVJ"
      },
      "source": [
        "#### Data processing"
      ]
    },
    {
      "cell_type": "code",
      "execution_count": 2,
      "metadata": {
        "id": "nbpM3QUwDMVK"
      },
      "outputs": [
        {
          "name": "stderr",
          "output_type": "stream",
          "text": [
            "[nltk_data] Downloading package stopwords to\n",
            "[nltk_data]     /Users/zer0deck/nltk_data...\n",
            "[nltk_data]   Package stopwords is already up-to-date!\n",
            "[nltk_data] Downloading package wordnet to\n",
            "[nltk_data]     /Users/zer0deck/nltk_data...\n",
            "[nltk_data]   Package wordnet is already up-to-date!\n",
            "[nltk_data] Downloading package omw-1.4 to\n",
            "[nltk_data]     /Users/zer0deck/nltk_data...\n",
            "[nltk_data]   Package omw-1.4 is already up-to-date!\n"
          ]
        }
      ],
      "source": [
        "# this is MY OWN preprocessing module (https://github.com/zer0deck/MLBM_Tclassifiers/blob/main/Data/Filtering.ipynb)\n",
        "# I've just modified it hard for this lab\n",
        "from preprocessing import text_filter\n",
        "\n",
        "import time, numpy\n",
        "from ipywidgets import Text, Layout\n",
        "from IPython.display import display\n",
        "t = Text(value='0',placeholder='Empty',description='Filtering:',disabled=False, layout=Layout(width='50%', height='80px'))"
      ]
    },
    {
      "cell_type": "code",
      "execution_count": 3,
      "metadata": {
        "id": "Hklvhb6RDMVL"
      },
      "outputs": [
        {
          "data": {
            "application/vnd.jupyter.widget-view+json": {
              "model_id": "3eb97885a19547e6956d8ad9cb51e039",
              "version_major": 2,
              "version_minor": 0
            },
            "text/plain": [
              "Text(value='0', description='Filtering:', layout=Layout(height='80px', width='50%'), placeholder='Empty')"
            ]
          },
          "metadata": {},
          "output_type": "display_data"
        },
        {
          "name": "stderr",
          "output_type": "stream",
          "text": [
            "/Users/zer0deck/Documents/Документы/Магистратура/nlp/preprocessing.py:100: GuessedAtParserWarning: No parser was explicitly specified, so I'm using the best available HTML parser for this system (\"lxml\"). This usually isn't a problem, but if you run this code on another system, or in a different virtual environment, it may use a different parser and behave differently.\n",
            "\n",
            "The code that caused this warning is on line 100 of the file /Users/zer0deck/Documents/Документы/Магистратура/nlp/preprocessing.py. To get rid of this warning, pass the additional argument 'features=\"lxml\"' to the BeautifulSoup constructor.\n",
            "\n",
            "  soup = BeautifulSoup(inputt)\n"
          ]
        }
      ],
      "source": [
        "display(t)\n",
        "full_text_l = []\n",
        "start = time.time()\n",
        "\n",
        "for i, text in enumerate(df['text']):\n",
        "\n",
        "        clear_text = text_filter(text)\n",
        "        full_text_l.append(clear_text)\n",
        "        df['text'].iloc[i] = clear_text\n",
        "\n",
        "        percent = numpy.round(i/len(df)*100, 3)\n",
        "        now = numpy.round(time.time()-start, 3)\n",
        "        \n",
        "        t.value = f'Completed: {percent}%, Time gone:{now}'"
      ]
    },
    {
      "cell_type": "code",
      "execution_count": 4,
      "metadata": {
        "id": "H59-VAGmDMVM"
      },
      "outputs": [
        {
          "data": {
            "text/plain": [
              "'eric newby love war apennines eric newby love war apennines author eric newby title love war apennines moochable copies copy available amazon suggests short walk hindu kush slowly ganges shore mediterranean last grain race round ireland low gear recommended bookmooch box bookmooch bookmark show recommendations topics abridged ancient asia audiobooks biography memoir biography memoirs general book cassette eastern front edition format europe florence hiroshima nagasaki history history europe general history europe italy general home front intelligence operation italy iwo jima medieval milan military naples naval normandy pearl harbor personal narrative reference refinement renaissance rome sardinia sicily stalingrad travel travel europe italy general tuscany umbria venice western front woman world war writing published english binding audio cassette pages date isbn publisher harpercollins audio weight pound size inch edition abridged amazon prices previous givers jessierey usa previous moochers will for usa wishlists deb usa description book description italy made peace summer allied pows eric newby among them walked away prison camps italy occupied germans camp behind lines newby went mountain where help locals evaded retreating enemy italian peasant sheltered three months classic memoir newby recall selfless people their unchanging lifestyle funny bizarre dangerous incidents hope local girl later became wife exciting story superbly told punch related interest carlino stuart hood passage freedom joseph frelinghuysen available url'"
            ]
          },
          "execution_count": 4,
          "metadata": {},
          "output_type": "execute_result"
        }
      ],
      "source": [
        "from random import randint\n",
        "df['text'][0]"
      ]
    },
    {
      "cell_type": "markdown",
      "metadata": {
        "id": "_h_c-1kBDMVN"
      },
      "source": [
        "#### Vizualization"
      ]
    },
    {
      "cell_type": "markdown",
      "metadata": {
        "id": "HTu83iAWDMVN"
      },
      "source": [
        "As a visualisation, it is necessary to construct a frequency distribution of words (the 100 most common words), sorted by frequency. \n",
        "\n",
        "For visualization purposes we advice you to use plotly, but you are free to choose other libraries"
      ]
    },
    {
      "cell_type": "code",
      "execution_count": 5,
      "metadata": {
        "id": "bHX6IXcrDMVO"
      },
      "outputs": [],
      "source": [
        "from nltk.probability import FreqDist\n",
        "import matplotlib.pyplot as plt"
      ]
    },
    {
      "cell_type": "code",
      "execution_count": 6,
      "metadata": {},
      "outputs": [
        {
          "data": {
            "image/png": "[encoded data removed]",
            "text/plain": [
              "<Figure size 1800x720 with 1 Axes>"
            ]
          },
          "metadata": {
            "needs_background": "light"
          },
          "output_type": "display_data"
        },
        {
          "data": {
            "text/plain": [
              "<AxesSubplot:xlabel='Samples', ylabel='Counts'>"
            ]
          },
          "execution_count": 6,
          "metadata": {},
          "output_type": "execute_result"
        }
      ],
      "source": [
        "full_text = \" \".join(full_text_l)\n",
        "plt.figure(figsize=(25,10))\n",
        "graph = FreqDist(full_text.split())\n",
        "graph.plot(100)"
      ]
    },
    {
      "cell_type": "markdown",
      "metadata": {
        "id": "5ZxcPfLTDMVO"
      },
      "source": [
        "#### Provide examples of processed text (some parts)\n",
        "\n",
        "Is everything all right with the result of cleaning these examples? What kind of information was lost?"
      ]
    },
    {
      "cell_type": "code",
      "execution_count": 7,
      "metadata": {
        "id": "2BSMfa9lDMVP"
      },
      "outputs": [
        {
          "name": "stdout",
          "output_type": "stream",
          "text": [
            "ric newby love war apennines eric newby love war apennines author eric newby title love war apennines moochable copies copy available amazon suggests short walk hindu kush slowly ganges shore mediter\n"
          ]
        }
      ],
      "source": [
        "print(full_text[1:200])"
      ]
    },
    {
      "cell_type": "markdown",
      "metadata": {
        "id": "0xn6XK7UDMVP"
      },
      "source": [
        "> My preprocessing module delete all the numbers and special digits like `'`, but I'm trying to warn this in my module"
      ]
    },
    {
      "cell_type": "markdown",
      "metadata": {
        "id": "IlSeYg4sDMVQ"
      },
      "source": [
        "# [10 points] Part 2. Duplicates detection. LSH"
      ]
    },
    {
      "cell_type": "markdown",
      "metadata": {
        "id": "ZuMBHSiDDMVR"
      },
      "source": [
        "#### Libraries you can use\n",
        "\n",
        "1. LSH - https://github.com/ekzhu/datasketch\n",
        "1. LSH - https://github.com/mattilyra/LSH\n",
        "1. Any other library on your choise"
      ]
    },
    {
      "cell_type": "markdown",
      "metadata": {
        "id": "uff5aBpgDMVR"
      },
      "source": [
        "1. Detect duplicated text (duplicates do not imply a complete word-to-word match, but texts that may contain a paraphrase, rearrangement of words, sentences)\n",
        "1. Make a plot dependency of duplicates on shingle size (with fixed minhash length) \n",
        "1. Make a plot dependency of duplicates on minhash length (with fixed shingle size)"
      ]
    },
    {
      "cell_type": "code",
      "execution_count": 8,
      "metadata": {
        "id": "QOFZ7AvyDMVS"
      },
      "outputs": [],
      "source": [
        "def create_gramems(text, size):\n",
        "    tokens = text.split()\n",
        "    return [' '.join(tokens[i:i+size]) for i in range(len(tokens) - size + 1)]\n",
        "\n",
        "def dgsearch(df, size, range_s=3000):\n",
        "    df_grammms = []\n",
        "    for i in range(range_s):\n",
        "        df_grammms.append(create_gramems(df['text'][i],size))\n",
        "    return df_grammms"
      ]
    },
    {
      "cell_type": "code",
      "execution_count": 9,
      "metadata": {
        "id": "HPonm9U3DMVS"
      },
      "outputs": [],
      "source": [
        "#MinHashLSH with datasketch library:\n",
        "from datasketch import MinHash, MinHashLSH\n",
        "\n",
        "def MH(num_perm, df_grammms, range_s=3000):\n",
        "    wl = []\n",
        "    for i in range(range_s):\n",
        "        wl.append(MinHash(num_perm=num_perm))\n",
        "\n",
        "    for i in range(range_s):\n",
        "        for d in df_grammms[i]:\n",
        "            wl[i].update(d.encode('utf8'))\n",
        "\n",
        "    lsh = MinHashLSH(threshold=0.5, num_perm=num_perm)\n",
        "    for i in range(range_s):\n",
        "        lsh.insert(\"m\"+str(i), wl[i])\n",
        "    return wl, lsh\n"
      ]
    },
    {
      "cell_type": "code",
      "execution_count": 10,
      "metadata": {},
      "outputs": [],
      "source": [
        "def uniq_count(wl, lsh, range_s=3000, t=False, table = None):\n",
        "    uniq = 0\n",
        "\n",
        "    for i in range(range_s):\n",
        "        neighbours = lsh.query(wl[i])\n",
        "        f = f'm{i}'\n",
        "        neighbours.remove(f)\n",
        "\n",
        "        if t:\n",
        "            if len(neighbours) < 10:\n",
        "                table.add_row([f, neighbours])\n",
        "\n",
        "        if not neighbours:\n",
        "            uniq+=1\n",
        "    \n",
        "    return uniq"
      ]
    },
    {
      "cell_type": "code",
      "execution_count": 11,
      "metadata": {},
      "outputs": [
        {
          "name": "stdout",
          "output_type": "stream",
          "text": [
            "+-------+-----------------------------------------------------------------------------------+\n",
            "| GOAL  | NEIGHBOURS                                                                        |\n",
            "+-------+-----------------------------------------------------------------------------------+\n",
            "| m0    | ['m469']                                                                          |\n",
            "| m1    | ['m470', 'm1504']                                                                 |\n",
            "| m2    | ['m471']                                                                          |\n",
            "| m3    | ['m472']                                                                          |\n",
            "| m4    | ['m473']                                                                          |\n",
            "| m5    | ['m474']                                                                          |\n",
            "| m6    | ['m475']                                                                          |\n",
            "| m7    | ['m476']                                                                          |\n",
            "| m8    | ['m477']                                                                          |\n",
            "| m9    | ['m478']                                                                          |\n",
            "| m10   | ['m479', 'm533', 'm64']                                                           |\n",
            "| m11   | ['m480']                                                                          |\n",
            "| m12   | ['m481']                                                                          |\n",
            "| m13   | ['m19', 'm21', 'm20', 'm489', 'm488', 'm490', 'm482']                             |\n",
            "| m14   | ['m483']                                                                          |\n",
            "| m15   | ['m484']                                                                          |\n",
            "| m16   | ['m485']                                                                          |\n",
            "| m17   | ['m486']                                                                          |\n",
            "| m18   | ['m487']                                                                          |\n",
            "| m19   | ['m13', 'm21', 'm20', 'm489', 'm488', 'm490', 'm482']                             |\n",
            "| m20   | ['m13', 'm19', 'm21', 'm489', 'm488', 'm490', 'm482']                             |\n",
            "| m21   | ['m13', 'm19', 'm20', 'm489', 'm488', 'm490', 'm482']                             |\n",
            "| m22   | ['m491']                                                                          |\n",
            "| m23   | ['m492']                                                                          |\n",
            "| m24   | ['m493']                                                                          |\n",
            "| m25   | ['m494']                                                                          |\n",
            "| m26   | ['m495']                                                                          |\n",
            "| m27   | ['m496']                                                                          |\n",
            "| m28   | ['m497']                                                                          |\n",
            "| m29   | ['m498']                                                                          |\n",
            "| m30   | ['m499']                                                                          |\n",
            "| m31   | ['m500']                                                                          |\n",
            "| m32   | ['m501']                                                                          |\n",
            "| m33   | ['m502']                                                                          |\n",
            "| m34   | ['m503']                                                                          |\n",
            "| m35   | ['m504']                                                                          |\n",
            "| m36   | ['m505']                                                                          |\n",
            "| m37   | ['m506']                                                                          |\n",
            "| m38   | ['m507']                                                                          |\n",
            "| m39   | ['m508']                                                                          |\n",
            "| m40   | ['m509']                                                                          |\n",
            "| m41   | ['m510']                                                                          |\n",
            "| m42   | ['m511']                                                                          |\n",
            "| m43   | ['m512']                                                                          |\n",
            "| m44   | ['m513']                                                                          |\n",
            "| m45   | ['m514']                                                                          |\n",
            "| m46   | ['m515']                                                                          |\n",
            "| m47   | ['m516']                                                                          |\n",
            "| m48   | ['m517']                                                                          |\n",
            "| m49   | ['m518']                                                                          |\n",
            "| m50   | ['m519']                                                                          |\n",
            "| m51   | ['m520']                                                                          |\n",
            "| m52   | ['m521']                                                                          |\n",
            "| m53   | ['m522']                                                                          |\n",
            "| m54   | ['m523']                                                                          |\n",
            "| m55   | ['m524']                                                                          |\n",
            "| m56   | ['m525']                                                                          |\n",
            "| m57   | ['m526']                                                                          |\n",
            "| m58   | ['m527']                                                                          |\n",
            "| m59   | ['m528']                                                                          |\n",
            "| m60   | ['m529']                                                                          |\n",
            "| m61   | ['m530']                                                                          |\n",
            "| m62   | ['m531']                                                                          |\n",
            "| m63   | ['m532']                                                                          |\n",
            "| m64   | ['m479', 'm533', 'm10']                                                           |\n",
            "| m65   | ['m534']                                                                          |\n",
            "| m66   | ['m535']                                                                          |\n",
            "| m67   | ['m536']                                                                          |\n",
            "| m68   | ['m537']                                                                          |\n",
            "| m69   | ['m538']                                                                          |\n",
            "| m70   | ['m539']                                                                          |\n",
            "| m71   | ['m540']                                                                          |\n",
            "| m72   | ['m541']                                                                          |\n",
            "| m73   | ['m542']                                                                          |\n",
            "| m74   | ['m543']                                                                          |\n",
            "| m75   | ['m544']                                                                          |\n",
            "| m76   | ['m545']                                                                          |\n",
            "| m77   | ['m546']                                                                          |\n",
            "| m78   | ['m547']                                                                          |\n",
            "| m79   | ['m548']                                                                          |\n",
            "| m80   | ['m555', 'm549', 'm86']                                                           |\n",
            "| m81   | ['m550']                                                                          |\n",
            "| m82   | ['m551']                                                                          |\n",
            "| m83   | ['m552']                                                                          |\n",
            "| m84   | ['m553']                                                                          |\n",
            "| m85   | ['m554']                                                                          |\n",
            "| m86   | ['m555', 'm549', 'm80']                                                           |\n",
            "| m87   | ['m556']                                                                          |\n",
            "| m88   | ['m557']                                                                          |\n",
            "| m89   | ['m558']                                                                          |\n",
            "| m90   | ['m559']                                                                          |\n",
            "| m91   | ['m560']                                                                          |\n",
            "| m92   | ['m561']                                                                          |\n",
            "| m93   | ['m562']                                                                          |\n",
            "| m94   | ['m563']                                                                          |\n",
            "| m95   | ['m564']                                                                          |\n",
            "| m96   | ['m565']                                                                          |\n",
            "| m97   | ['m566', 'm98', 'm567']                                                           |\n",
            "| m98   | ['m566', 'm567', 'm97']                                                           |\n",
            "| m99   | ['m568']                                                                          |\n",
            "| m100  | ['m569']                                                                          |\n",
            "| m101  | ['m570']                                                                          |\n",
            "| m102  | ['m571']                                                                          |\n",
            "| m103  | ['m572', 'm573', 'm104']                                                          |\n",
            "| m104  | ['m103', 'm572', 'm573']                                                          |\n",
            "| m105  | ['m574']                                                                          |\n",
            "| m106  | ['m575']                                                                          |\n",
            "| m107  | ['m576']                                                                          |\n",
            "| m108  | ['m577']                                                                          |\n",
            "| m109  | ['m578']                                                                          |\n",
            "| m110  | ['m580', 'm579', 'm111']                                                          |\n",
            "| m111  | ['m110', 'm580', 'm579']                                                          |\n",
            "| m112  | ['m581']                                                                          |\n",
            "| m113  | ['m582']                                                                          |\n",
            "| m114  | ['m583']                                                                          |\n",
            "| m115  | ['m584']                                                                          |\n",
            "| m116  | ['m585']                                                                          |\n",
            "| m117  | ['m586']                                                                          |\n",
            "| m118  | ['m587']                                                                          |\n",
            "| m119  | ['m588']                                                                          |\n",
            "| m120  | ['m589']                                                                          |\n",
            "| m121  | ['m590']                                                                          |\n",
            "| m122  | ['m591']                                                                          |\n",
            "| m123  | ['m592']                                                                          |\n",
            "| m124  | ['m593']                                                                          |\n",
            "| m125  | ['m594']                                                                          |\n",
            "| m126  | ['m595']                                                                          |\n",
            "| m127  | ['m596']                                                                          |\n",
            "| m128  | ['m597']                                                                          |\n",
            "| m129  | ['m598']                                                                          |\n",
            "| m130  | ['m599']                                                                          |\n",
            "| m131  | ['m600']                                                                          |\n",
            "| m132  | ['m601']                                                                          |\n",
            "| m133  | ['m602']                                                                          |\n",
            "| m134  | ['m603']                                                                          |\n",
            "| m135  | ['m604']                                                                          |\n",
            "| m136  | ['m605']                                                                          |\n",
            "| m137  | ['m606']                                                                          |\n",
            "| m138  | ['m607']                                                                          |\n",
            "| m139  | ['m611', 'm142', 'm608']                                                          |\n",
            "| m140  | ['m611', 'm609', 'm142']                                                          |\n",
            "| m141  | ['m610']                                                                          |\n",
            "| m142  | ['m609', 'm608', 'm140', 'm611', 'm139']                                          |\n",
            "| m143  | ['m612']                                                                          |\n",
            "| m144  | ['m613']                                                                          |\n",
            "| m145  | ['m614']                                                                          |\n",
            "| m146  | ['m615']                                                                          |\n",
            "| m147  | ['m616']                                                                          |\n",
            "| m148  | ['m617']                                                                          |\n",
            "| m149  | ['m618']                                                                          |\n",
            "| m150  | ['m156', 'm619', 'm625']                                                          |\n",
            "| m151  | ['m620']                                                                          |\n",
            "| m152  | ['m621']                                                                          |\n",
            "| m153  | ['m622']                                                                          |\n",
            "| m154  | ['m156', 'm625', 'm623']                                                          |\n",
            "| m155  | ['m624']                                                                          |\n",
            "| m156  | ['m150', 'm619', 'm625', 'm154', 'm623']                                          |\n",
            "| m157  | ['m626']                                                                          |\n",
            "| m158  | ['m627']                                                                          |\n",
            "| m159  | ['m628']                                                                          |\n",
            "| m160  | ['m629']                                                                          |\n",
            "| m161  | ['m630']                                                                          |\n",
            "| m162  | ['m631']                                                                          |\n",
            "| m163  | ['m632']                                                                          |\n",
            "| m164  | ['m633']                                                                          |\n",
            "| m165  | ['m634']                                                                          |\n",
            "| m166  | ['m635']                                                                          |\n",
            "| m167  | ['m636']                                                                          |\n",
            "| m168  | ['m637']                                                                          |\n",
            "| m169  | ['m638']                                                                          |\n",
            "| m170  | ['m639']                                                                          |\n",
            "| m171  | ['m640']                                                                          |\n",
            "| m172  | ['m641']                                                                          |\n",
            "| m173  | ['m642']                                                                          |\n",
            "| m193  | ['m662']                                                                          |\n",
            "| m194  | ['m663', 'm654', 'm720', 'm185', 'm251']                                          |\n",
            "| m196  | ['m668', 'm259', 'm667', 'm249', 'm665', 'm728', 'm199', 'm718', 'm198']          |\n",
            "| m204  | ['m673']                                                                          |\n",
            "| m205  | ['m674']                                                                          |\n",
            "| m206  | ['m675']                                                                          |\n",
            "| m219  | ['m688']                                                                          |\n",
            "| m228  | ['m694', 'm225', 'm697']                                                          |\n",
            "| m237  | ['m236', 'm705', 'm706']                                                          |\n",
            "| m239  | ['m190', 'm201', 'm708', 'm670', 'm651', 'm659', 'm215', 'm182', 'm684']          |\n",
            "| m241  | ['m710']                                                                          |\n",
            "| m244  | ['m713']                                                                          |\n",
            "| m247  | ['m716']                                                                          |\n",
            "| m251  | ['m201', 'm663', 'm654', 'm720', 'm670', 'm185', 'm194']                          |\n",
            "| m261  | ['m264', 'm263', 'm733', 'm730', 'm732']                                          |\n",
            "| m262  | ['m731', 'm272', 'm794', 'm741', 'm776', 'm307', 'm305', 'm325', 'm774']          |\n",
            "| m265  | ['m747', 'm737', 'm268', 'm278', 'm734']                                          |\n",
            "| m266  | ['m747', 'm794', 'm278', 'm735', 'm325']                                          |\n",
            "| m268  | ['m747', 'm265', 'm737', 'm278', 'm734']                                          |\n",
            "| m269  | ['m738']                                                                          |\n",
            "| m270  | ['m739']                                                                          |\n",
            "| m274  | ['m743']                                                                          |\n",
            "| m278  | ['m747', 'm794', 'm265', 'm737', 'm268', 'm325', 'm735', 'm734', 'm266']          |\n",
            "| m280  | ['m794', 'm303', 'm323', 'm792', 'm749', 'm772', 'm305', 'm325', 'm774']          |\n",
            "| m281  | ['m750']                                                                          |\n",
            "| m282  | ['m272', 'm742', 'm285', 'm273', 'm754', 'm741', 'm751']                          |\n",
            "| m283  | ['m752', 'm729', 'm777', 'm344', 'm789', 'm813', 'm260', 'm320', 'm308']          |\n",
            "| m287  | ['m288', 'm757', 'm756']                                                          |\n",
            "| m288  | ['m287', 'm757', 'm756']                                                          |\n",
            "| m292  | ['m761', 'm760', 'm291']                                                          |\n",
            "| m293  | ['m762']                                                                          |\n",
            "| m294  | ['m764', 'm336', 'm766', 'm235', 'm297', 'm704', 'm763', 'm295', 'm805']          |\n",
            "| m304  | ['m773', 'm740', 'm271']                                                          |\n",
            "| m306  | ['m775']                                                                          |\n",
            "| m310  | ['m331', 'm779', 'm800']                                                          |\n",
            "| m311  | ['m785', 'm316', 'm780', 'm331', 'm800']                                          |\n",
            "| m313  | ['m342', 'm264', 'm811', 'm810', 'm782', 'm733', 'm341']                          |\n",
            "| m314  | ['m783']                                                                          |\n",
            "| m316  | ['m311', 'm785', 'm780', 'm331', 'm800']                                          |\n",
            "| m321  | ['m326', 'm795', 'm267', 'm790', 'm736']                                          |\n",
            "| m324  | ['m793']                                                                          |\n",
            "| m326  | ['m321', 'm795', 'm267', 'm790', 'm736']                                          |\n",
            "| m327  | ['m796']                                                                          |\n",
            "| m328  | ['m340', 'm342', 'm811', 'm809', 'm797']                                          |\n",
            "| m329  | ['m798']                                                                          |\n",
            "| m330  | ['m799']                                                                          |\n",
            "| m331  | ['m311', 'm785', 'm779', 'm316', 'm781', 'm310', 'm780', 'm312', 'm800']          |\n",
            "| m332  | ['m801']                                                                          |\n",
            "| m334  | ['m822', 'm345', 'm791', 'm814', 'm322', 'm803', 'm353']                          |\n",
            "| m335  | ['m804']                                                                          |\n",
            "| m336  | ['m764', 'm766', 'm235', 'm297', 'm704', 'm763', 'm295', 'm294', 'm805']          |\n",
            "| m337  | ['m806']                                                                          |\n",
            "| m338  | ['m344', 'm759', 'm807', 'm813', 'm290']                                          |\n",
            "| m344  | ['m338', 'm752', 'm339', 'm283', 'm807', 'm789', 'm813', 'm808', 'm320']          |\n",
            "| m346  | ['m318', 'm781', 'm815', 'm312', 'm787', 'm267', 'm736']                          |\n",
            "| m347  | ['m816']                                                                          |\n",
            "| m348  | ['m817']                                                                          |\n",
            "| m349  | ['m818']                                                                          |\n",
            "| m354  | ['m823']                                                                          |\n",
            "| m356  | ['m777', 'm308', 'm825']                                                          |\n",
            "| m357  | ['m826']                                                                          |\n",
            "| m359  | ['m828']                                                                          |\n",
            "| m364  | ['m376', 'm862', 'm870', 'm393', 'm402', 'm845', 'm401', 'm871', 'm833']          |\n",
            "| m371  | ['m840']                                                                          |\n",
            "| m372  | ['m841']                                                                          |\n",
            "| m385  | ['m854']                                                                          |\n",
            "| m388  | ['m857']                                                                          |\n",
            "| m398  | ['m868', 'm867', 'm866', 'm399', 'm397']                                          |\n",
            "| m405  | ['m874']                                                                          |\n",
            "| m407  | ['m876']                                                                          |\n",
            "| m466  | ['m935']                                                                          |\n",
            "| m468  | ['m937']                                                                          |\n",
            "| m469  | ['m0']                                                                            |\n",
            "| m470  | ['m1504', 'm1']                                                                   |\n",
            "| m471  | ['m2']                                                                            |\n",
            "| m472  | ['m3']                                                                            |\n",
            "| m473  | ['m4']                                                                            |\n",
            "| m474  | ['m5']                                                                            |\n",
            "| m475  | ['m6']                                                                            |\n",
            "| m476  | ['m7']                                                                            |\n",
            "| m477  | ['m8']                                                                            |\n",
            "| m478  | ['m9']                                                                            |\n",
            "| m479  | ['m533', 'm10', 'm64']                                                            |\n",
            "| m480  | ['m11']                                                                           |\n",
            "| m481  | ['m12']                                                                           |\n",
            "| m482  | ['m13', 'm19', 'm21', 'm20', 'm489', 'm488', 'm490']                              |\n",
            "| m483  | ['m14']                                                                           |\n",
            "| m484  | ['m15']                                                                           |\n",
            "| m485  | ['m16']                                                                           |\n",
            "| m486  | ['m17']                                                                           |\n",
            "| m487  | ['m18']                                                                           |\n",
            "| m488  | ['m13', 'm19', 'm21', 'm20', 'm489', 'm490', 'm482']                              |\n",
            "| m489  | ['m13', 'm19', 'm20', 'm21', 'm488', 'm490', 'm482']                              |\n",
            "| m490  | ['m13', 'm19', 'm21', 'm20', 'm489', 'm488', 'm482']                              |\n",
            "| m491  | ['m22']                                                                           |\n",
            "| m492  | ['m23']                                                                           |\n",
            "| m493  | ['m24']                                                                           |\n",
            "| m494  | ['m25']                                                                           |\n",
            "| m495  | ['m26']                                                                           |\n",
            "| m496  | ['m27']                                                                           |\n",
            "| m497  | ['m28']                                                                           |\n",
            "| m498  | ['m29']                                                                           |\n",
            "| m499  | ['m30']                                                                           |\n",
            "| m500  | ['m31']                                                                           |\n",
            "| m501  | ['m32']                                                                           |\n",
            "| m502  | ['m33']                                                                           |\n",
            "| m503  | ['m34']                                                                           |\n",
            "| m504  | ['m35']                                                                           |\n",
            "| m505  | ['m36']                                                                           |\n",
            "| m506  | ['m37']                                                                           |\n",
            "| m507  | ['m38']                                                                           |\n",
            "| m508  | ['m39']                                                                           |\n",
            "| m509  | ['m40']                                                                           |\n",
            "| m510  | ['m41']                                                                           |\n",
            "| m511  | ['m42']                                                                           |\n",
            "| m512  | ['m43']                                                                           |\n",
            "| m513  | ['m44']                                                                           |\n",
            "| m514  | ['m45']                                                                           |\n",
            "| m515  | ['m46']                                                                           |\n",
            "| m516  | ['m47']                                                                           |\n",
            "| m517  | ['m48']                                                                           |\n",
            "| m518  | ['m49']                                                                           |\n",
            "| m519  | ['m50']                                                                           |\n",
            "| m520  | ['m51']                                                                           |\n",
            "| m521  | ['m52']                                                                           |\n",
            "| m522  | ['m53']                                                                           |\n",
            "| m523  | ['m54']                                                                           |\n",
            "| m524  | ['m55']                                                                           |\n",
            "| m525  | ['m56']                                                                           |\n",
            "| m526  | ['m57']                                                                           |\n",
            "| m527  | ['m58']                                                                           |\n",
            "| m528  | ['m59']                                                                           |\n",
            "| m529  | ['m60']                                                                           |\n",
            "| m530  | ['m61']                                                                           |\n",
            "| m531  | ['m62']                                                                           |\n",
            "| m532  | ['m63']                                                                           |\n",
            "| m533  | ['m479', 'm10', 'm64']                                                            |\n",
            "| m534  | ['m65']                                                                           |\n",
            "| m535  | ['m66']                                                                           |\n",
            "| m536  | ['m67']                                                                           |\n",
            "| m537  | ['m68']                                                                           |\n",
            "| m538  | ['m69']                                                                           |\n",
            "| m539  | ['m70']                                                                           |\n",
            "| m540  | ['m71']                                                                           |\n",
            "| m541  | ['m72']                                                                           |\n",
            "| m542  | ['m73']                                                                           |\n",
            "| m543  | ['m74']                                                                           |\n",
            "| m544  | ['m75']                                                                           |\n",
            "| m545  | ['m76']                                                                           |\n",
            "| m546  | ['m77']                                                                           |\n",
            "| m547  | ['m78']                                                                           |\n",
            "| m548  | ['m79']                                                                           |\n",
            "| m549  | ['m555', 'm86', 'm80']                                                            |\n",
            "| m550  | ['m81']                                                                           |\n",
            "| m551  | ['m82']                                                                           |\n",
            "| m552  | ['m83']                                                                           |\n",
            "| m553  | ['m84']                                                                           |\n",
            "| m554  | ['m85']                                                                           |\n",
            "| m555  | ['m549', 'm86', 'm80']                                                            |\n",
            "| m556  | ['m87']                                                                           |\n",
            "| m557  | ['m88']                                                                           |\n",
            "| m558  | ['m89']                                                                           |\n",
            "| m559  | ['m90']                                                                           |\n",
            "| m560  | ['m91']                                                                           |\n",
            "| m561  | ['m92']                                                                           |\n",
            "| m562  | ['m93']                                                                           |\n",
            "| m563  | ['m94']                                                                           |\n",
            "| m564  | ['m95']                                                                           |\n",
            "| m565  | ['m96']                                                                           |\n",
            "| m566  | ['m97', 'm98', 'm567']                                                            |\n",
            "| m567  | ['m98', 'm566', 'm97']                                                            |\n",
            "| m568  | ['m99']                                                                           |\n",
            "| m569  | ['m100']                                                                          |\n",
            "| m570  | ['m101']                                                                          |\n",
            "| m571  | ['m102']                                                                          |\n",
            "| m572  | ['m103', 'm573', 'm104']                                                          |\n",
            "| m573  | ['m103', 'm572', 'm104']                                                          |\n",
            "| m574  | ['m105']                                                                          |\n",
            "| m575  | ['m106']                                                                          |\n",
            "| m576  | ['m107']                                                                          |\n",
            "| m577  | ['m108']                                                                          |\n",
            "| m578  | ['m109']                                                                          |\n",
            "| m579  | ['m580', 'm110', 'm111']                                                          |\n",
            "| m580  | ['m111', 'm110', 'm579']                                                          |\n",
            "| m581  | ['m112']                                                                          |\n",
            "| m582  | ['m113']                                                                          |\n",
            "| m583  | ['m114']                                                                          |\n",
            "| m584  | ['m115']                                                                          |\n",
            "| m585  | ['m116']                                                                          |\n",
            "| m586  | ['m117']                                                                          |\n",
            "| m587  | ['m118']                                                                          |\n",
            "| m588  | ['m119']                                                                          |\n",
            "| m589  | ['m120']                                                                          |\n",
            "| m590  | ['m121']                                                                          |\n",
            "| m591  | ['m122']                                                                          |\n",
            "| m592  | ['m123']                                                                          |\n",
            "| m593  | ['m124']                                                                          |\n",
            "| m594  | ['m125']                                                                          |\n",
            "| m595  | ['m126']                                                                          |\n",
            "| m596  | ['m127']                                                                          |\n",
            "| m597  | ['m128']                                                                          |\n",
            "| m598  | ['m129']                                                                          |\n",
            "| m599  | ['m130']                                                                          |\n",
            "| m600  | ['m131']                                                                          |\n",
            "| m601  | ['m132']                                                                          |\n",
            "| m602  | ['m133']                                                                          |\n",
            "| m603  | ['m134']                                                                          |\n",
            "| m604  | ['m135']                                                                          |\n",
            "| m605  | ['m136']                                                                          |\n",
            "| m606  | ['m137']                                                                          |\n",
            "| m607  | ['m138']                                                                          |\n",
            "| m608  | ['m611', 'm142', 'm139']                                                          |\n",
            "| m609  | ['m611', 'm142', 'm140']                                                          |\n",
            "| m610  | ['m141']                                                                          |\n",
            "| m611  | ['m609', 'm142', 'm608', 'm140', 'm139']                                          |\n",
            "| m612  | ['m143']                                                                          |\n",
            "| m613  | ['m144']                                                                          |\n",
            "| m614  | ['m145']                                                                          |\n",
            "| m615  | ['m146']                                                                          |\n",
            "| m616  | ['m147']                                                                          |\n",
            "| m617  | ['m148']                                                                          |\n",
            "| m618  | ['m149']                                                                          |\n",
            "| m619  | ['m156', 'm150', 'm625']                                                          |\n",
            "| m620  | ['m151']                                                                          |\n",
            "| m621  | ['m152']                                                                          |\n",
            "| m622  | ['m153']                                                                          |\n",
            "| m623  | ['m156', 'm625', 'm154']                                                          |\n",
            "| m624  | ['m155']                                                                          |\n",
            "| m625  | ['m156', 'm150', 'm619', 'm154', 'm623']                                          |\n",
            "| m626  | ['m157']                                                                          |\n",
            "| m627  | ['m158']                                                                          |\n",
            "| m628  | ['m159']                                                                          |\n",
            "| m629  | ['m160']                                                                          |\n",
            "| m630  | ['m161']                                                                          |\n",
            "| m631  | ['m162']                                                                          |\n",
            "| m632  | ['m163']                                                                          |\n",
            "| m633  | ['m164']                                                                          |\n",
            "| m634  | ['m165']                                                                          |\n",
            "| m635  | ['m166']                                                                          |\n",
            "| m636  | ['m167']                                                                          |\n",
            "| m637  | ['m168']                                                                          |\n",
            "| m638  | ['m169']                                                                          |\n",
            "| m639  | ['m170']                                                                          |\n",
            "| m640  | ['m171']                                                                          |\n",
            "| m641  | ['m172']                                                                          |\n",
            "| m642  | ['m173']                                                                          |\n",
            "| m662  | ['m193']                                                                          |\n",
            "| m663  | ['m654', 'm720', 'm185', 'm251', 'm194']                                          |\n",
            "| m665  | ['m196', 'm668', 'm259', 'm667', 'm249', 'm728', 'm199', 'm718', 'm198']          |\n",
            "| m673  | ['m204']                                                                          |\n",
            "| m674  | ['m205']                                                                          |\n",
            "| m675  | ['m206']                                                                          |\n",
            "| m688  | ['m219']                                                                          |\n",
            "| m697  | ['m694', 'm225', 'm228']                                                          |\n",
            "| m706  | ['m236', 'm705', 'm237']                                                          |\n",
            "| m708  | ['m239', 'm190', 'm201', 'm670', 'm651', 'm659', 'm215', 'm182', 'm684']          |\n",
            "| m710  | ['m241']                                                                          |\n",
            "| m713  | ['m244']                                                                          |\n",
            "| m716  | ['m247']                                                                          |\n",
            "| m720  | ['m201', 'm663', 'm654', 'm670', 'm185', 'm251', 'm194']                          |\n",
            "| m730  | ['m261', 'm264', 'm263', 'm733', 'm732']                                          |\n",
            "| m731  | ['m272', 'm794', 'm262', 'm741', 'm776', 'm307', 'm305', 'm325', 'm774']          |\n",
            "| m734  | ['m747', 'm265', 'm737', 'm268', 'm278']                                          |\n",
            "| m735  | ['m747', 'm794', 'm278', 'm325', 'm266']                                          |\n",
            "| m737  | ['m747', 'm265', 'm268', 'm278', 'm734']                                          |\n",
            "| m738  | ['m269']                                                                          |\n",
            "| m739  | ['m270']                                                                          |\n",
            "| m743  | ['m274']                                                                          |\n",
            "| m747  | ['m794', 'm265', 'm737', 'm268', 'm278', 'm325', 'm735', 'm734', 'm266']          |\n",
            "| m749  | ['m794', 'm303', 'm323', 'm792', 'm772', 'm305', 'm325', 'm280', 'm774']          |\n",
            "| m750  | ['m281']                                                                          |\n",
            "| m751  | ['m272', 'm742', 'm285', 'm273', 'm754', 'm741', 'm282']                          |\n",
            "| m752  | ['m729', 'm777', 'm344', 'm283', 'm789', 'm813', 'm260', 'm320', 'm308']          |\n",
            "| m756  | ['m287', 'm288', 'm757']                                                          |\n",
            "| m757  | ['m287', 'm288', 'm756']                                                          |\n",
            "| m761  | ['m760', 'm291', 'm292']                                                          |\n",
            "| m762  | ['m293']                                                                          |\n",
            "| m763  | ['m764', 'm336', 'm766', 'm235', 'm297', 'm704', 'm295', 'm294', 'm805']          |\n",
            "| m773  | ['m740', 'm304', 'm271']                                                          |\n",
            "| m775  | ['m306']                                                                          |\n",
            "| m779  | ['m331', 'm800', 'm310']                                                          |\n",
            "| m780  | ['m311', 'm785', 'm316', 'm331', 'm800']                                          |\n",
            "| m782  | ['m313', 'm342', 'm264', 'm811', 'm810', 'm733', 'm341']                          |\n",
            "| m783  | ['m314']                                                                          |\n",
            "| m785  | ['m311', 'm316', 'm780', 'm331', 'm800']                                          |\n",
            "| m790  | ['m321', 'm326', 'm795', 'm267', 'm736']                                          |\n",
            "| m793  | ['m324']                                                                          |\n",
            "| m795  | ['m321', 'm326', 'm267', 'm790', 'm736']                                          |\n",
            "| m796  | ['m327']                                                                          |\n",
            "| m797  | ['m340', 'm342', 'm811', 'm809', 'm328']                                          |\n",
            "| m798  | ['m329']                                                                          |\n",
            "| m799  | ['m330']                                                                          |\n",
            "| m800  | ['m311', 'm785', 'm779', 'm316', 'm781', 'm310', 'm780', 'm331', 'm312']          |\n",
            "| m801  | ['m332']                                                                          |\n",
            "| m803  | ['m822', 'm345', 'm791', 'm814', 'm322', 'm353', 'm334']                          |\n",
            "| m804  | ['m335']                                                                          |\n",
            "| m805  | ['m764', 'm336', 'm766', 'm235', 'm297', 'm704', 'm763', 'm295', 'm294']          |\n",
            "| m806  | ['m337']                                                                          |\n",
            "| m807  | ['m338', 'm344', 'm759', 'm813', 'm290']                                          |\n",
            "| m813  | ['m338', 'm752', 'm339', 'm344', 'm283', 'm807', 'm789', 'm808', 'm320']          |\n",
            "| m815  | ['m318', 'm781', 'm312', 'm787', 'm267', 'm346', 'm736']                          |\n",
            "| m816  | ['m347']                                                                          |\n",
            "| m817  | ['m348']                                                                          |\n",
            "| m818  | ['m349']                                                                          |\n",
            "| m823  | ['m354']                                                                          |\n",
            "| m825  | ['m777', 'm356', 'm308']                                                          |\n",
            "| m826  | ['m357']                                                                          |\n",
            "| m828  | ['m359']                                                                          |\n",
            "| m833  | ['m376', 'm862', 'm870', 'm364', 'm393', 'm402', 'm845', 'm401', 'm871']          |\n",
            "| m840  | ['m371']                                                                          |\n",
            "| m841  | ['m372']                                                                          |\n",
            "| m854  | ['m385']                                                                          |\n",
            "| m857  | ['m388']                                                                          |\n",
            "| m867  | ['m398', 'm868', 'm866', 'm399', 'm397']                                          |\n",
            "| m874  | ['m405']                                                                          |\n",
            "| m876  | ['m407']                                                                          |\n",
            "| m935  | ['m466']                                                                          |\n",
            "| m937  | ['m468']                                                                          |\n",
            "| m938  | []                                                                                |\n",
            "| m940  | []                                                                                |\n",
            "| m942  | []                                                                                |\n",
            "| m943  | []                                                                                |\n",
            "| m945  | ['m1015', 'm944', 'm1028', 'm1009', 'm1029', 'm986']                              |\n",
            "| m946  | []                                                                                |\n",
            "| m947  | ['m936', 'm467', 'm933', 'm1019', 'm464', 'm990', 'm964']                         |\n",
            "| m948  | []                                                                                |\n",
            "| m950  | []                                                                                |\n",
            "| m953  | []                                                                                |\n",
            "| m956  | []                                                                                |\n",
            "| m957  | []                                                                                |\n",
            "| m958  | ['m951', 'm952', 'm966', 'm933', 'm464', 'm954', 'm964', 'm967']                  |\n",
            "| m959  | []                                                                                |\n",
            "| m960  | []                                                                                |\n",
            "| m961  | []                                                                                |\n",
            "| m962  | []                                                                                |\n",
            "| m963  | []                                                                                |\n",
            "| m966  | ['m967', 'm951', 'm941', 'm958', 'm933', 'm464', 'm954', 'm964', 'm952']          |\n",
            "| m967  | ['m951', 'm941', 'm958', 'm966', 'm933', 'm464', 'm954', 'm964', 'm952']          |\n",
            "| m968  | []                                                                                |\n",
            "| m1008 | ['m982', 'm1000', 'm1020', 'm1024', 'm970', 'm974', 'm1027']                      |\n",
            "| m1023 | ['m1015', 'm1012', 'm981', 'm1013', 'm1022', 'm1018', 'm1019', 'm1032']           |\n",
            "| m1026 | ['m978', 'm988', 'm1024', 'm1006', 'm986']                                        |\n",
            "| m1030 | []                                                                                |\n",
            "| m1036 | []                                                                                |\n",
            "| m1065 | ['m1114', 'm1063', 'm1090', 'm1179', 'm1175', 'm1163', 'm1128', 'm1088']          |\n",
            "| m1073 | ['m1063']                                                                         |\n",
            "| m1097 | ['m1086', 'm1091', 'm1087', 'm1092', 'm1096']                                     |\n",
            "| m1100 | ['m1096']                                                                         |\n",
            "| m1118 | []                                                                                |\n",
            "| m1129 | []                                                                                |\n",
            "| m1132 | ['m1136', 'm1177']                                                                |\n",
            "| m1137 | []                                                                                |\n",
            "| m1139 | []                                                                                |\n",
            "| m1169 | ['m1189', 'm1170']                                                                |\n",
            "| m1170 | ['m1169', 'm1143']                                                                |\n",
            "| m1189 | ['m1169']                                                                         |\n",
            "| m1190 | ['m1138']                                                                         |\n",
            "| m1191 | []                                                                                |\n",
            "| m1194 | ['m1166', 'm1174', 'm1177', 'm1181', 'm1214']                                     |\n",
            "| m1195 | ['m1143']                                                                         |\n",
            "| m1202 | ['m1199', 'm1196', 'm1197', 'm1198', 'm1201']                                     |\n",
            "| m1207 | []                                                                                |\n",
            "| m1208 | ['m1214']                                                                         |\n",
            "| m1218 | []                                                                                |\n",
            "| m1412 | []                                                                                |\n",
            "| m1419 | ['m1498', 'm1478', 'm1500']                                                       |\n",
            "| m1422 | []                                                                                |\n",
            "| m1426 | []                                                                                |\n",
            "| m1438 | ['m1500']                                                                         |\n",
            "| m1471 | []                                                                                |\n",
            "| m1476 | []                                                                                |\n",
            "| m1498 | ['m1419', 'm1478', 'm1500']                                                       |\n",
            "| m1500 | ['m1498', 'm1438', 'm1419', 'm1478']                                              |\n",
            "| m1504 | ['m470', 'm1']                                                                    |\n",
            "| m1545 | ['m1556', 'm1525', 'm1505', 'm1506', 'm1554', 'm1553', 'm1557', 'm1533']          |\n",
            "| m1555 | ['m1557', 'm1537']                                                                |\n",
            "| m1562 | ['m1605', 'm1639', 'm1575', 'm1570']                                              |\n",
            "| m1563 | ['m1578', 'm1571', 'm1560', 'm1559', 'm1599', 'm1576', 'm1564']                   |\n",
            "| m1566 | ['m1568', 'm1565', 'm1567']                                                       |\n",
            "| m1570 | ['m1562', 'm1575']                                                                |\n",
            "| m1574 | []                                                                                |\n",
            "| m1575 | ['m1562', 'm1570']                                                                |\n",
            "| m1579 | []                                                                                |\n",
            "| m1588 | ['m1591', 'm1589', 'm1626', 'm1619', 'm1630']                                     |\n",
            "| m1593 | ['m1581', 'm1604']                                                                |\n",
            "| m1594 | ['m1585', 'm1595', 'm1632', 'm1596', 'm1604', 'm1587', 'm1583', 'm1581']          |\n",
            "| m1597 | []                                                                                |\n",
            "| m1600 | []                                                                                |\n",
            "| m1601 | []                                                                                |\n",
            "| m1603 | ['m1586', 'm1642', 'm1612', 'm1617', 'm1614', 'm1611']                            |\n",
            "| m1607 | []                                                                                |\n",
            "| m1609 | ['m1610']                                                                         |\n",
            "| m1610 | ['m1609']                                                                         |\n",
            "| m1617 | ['m1586', 'm1634', 'm1612', 'm1603', 'm1583', 'm1622', 'm1590', 'm1614', 'm1611'] |\n",
            "| m1618 | []                                                                                |\n",
            "| m1620 | []                                                                                |\n",
            "| m1623 | []                                                                                |\n",
            "| m1624 | []                                                                                |\n",
            "| m1625 | []                                                                                |\n",
            "| m1627 | []                                                                                |\n",
            "| m1628 | ['m1585', 'm1634', 'm1582', 'm1641', 'm1581', 'm1611', 'm1596', 'm1622', 'm1629'] |\n",
            "| m1630 | ['m1591', 'm1589', 'm1626', 'm1588', 'm1619']                                     |\n",
            "| m1631 | []                                                                                |\n",
            "| m1633 | []                                                                                |\n",
            "| m1635 | ['m1599']                                                                         |\n",
            "| m1637 | []                                                                                |\n",
            "| m1638 | []                                                                                |\n",
            "| m1641 | ['m1568', 'm1628', 'm1567', 'm1634', 'm1612', 'm1619', 'm1582', 'm1629']          |\n",
            "| m1646 | ['m1733', 'm1643']                                                                |\n",
            "| m1647 | []                                                                                |\n",
            "| m1649 | []                                                                                |\n",
            "| m1650 | []                                                                                |\n",
            "| m1651 | []                                                                                |\n",
            "| m1653 | []                                                                                |\n",
            "| m1654 | []                                                                                |\n",
            "| m1656 | []                                                                                |\n",
            "| m1657 | []                                                                                |\n",
            "| m1658 | []                                                                                |\n",
            "| m1659 | []                                                                                |\n",
            "| m1661 | []                                                                                |\n",
            "| m1663 | ['m1677', 'm1717', 'm1645', 'm1692', 'm1676']                                     |\n",
            "| m1664 | []                                                                                |\n",
            "| m1665 | []                                                                                |\n",
            "| m1670 | []                                                                                |\n",
            "| m1681 | []                                                                                |\n",
            "| m1682 | []                                                                                |\n",
            "| m1683 | []                                                                                |\n",
            "| m1686 | []                                                                                |\n",
            "| m1687 | []                                                                                |\n",
            "| m1688 | []                                                                                |\n",
            "| m1689 | []                                                                                |\n",
            "| m1690 | []                                                                                |\n",
            "| m1695 | []                                                                                |\n",
            "| m1696 | []                                                                                |\n",
            "| m1697 | []                                                                                |\n",
            "| m1702 | []                                                                                |\n",
            "| m1704 | []                                                                                |\n",
            "| m1705 | []                                                                                |\n",
            "| m1706 | []                                                                                |\n",
            "| m1707 | []                                                                                |\n",
            "| m1709 | []                                                                                |\n",
            "| m1710 | ['m1703', 'm1739']                                                                |\n",
            "| m1712 | []                                                                                |\n",
            "| m1713 | []                                                                                |\n",
            "| m1721 | ['m1717', 'm1675', 'm1679', 'm1655', 'm1714', 'm1708', 'm1666', 'm1678']          |\n",
            "| m1722 | ['m1680', 'm1679', 'm1720', 'm1703']                                              |\n",
            "| m1724 | []                                                                                |\n",
            "| m1725 | []                                                                                |\n",
            "| m1728 | []                                                                                |\n",
            "| m1730 | ['m1644', 'm1734', 'm1732']                                                       |\n",
            "| m1736 | []                                                                                |\n",
            "| m1740 | []                                                                                |\n",
            "| m1741 | []                                                                                |\n",
            "| m1742 | []                                                                                |\n",
            "| m1743 | ['m1701', 'm1692', 'm1715', 'm1673']                                              |\n",
            "| m1744 | []                                                                                |\n",
            "| m1745 | []                                                                                |\n",
            "| m1747 | ['m2083']                                                                         |\n",
            "| m1748 | ['m2064']                                                                         |\n",
            "| m1749 | []                                                                                |\n",
            "| m1750 | []                                                                                |\n",
            "| m1751 | ['m1786', 'm1758', 'm1752', 'm1846', 'm1793']                                     |\n",
            "| m1753 | []                                                                                |\n",
            "| m1754 | []                                                                                |\n",
            "| m1755 | []                                                                                |\n",
            "| m1756 | []                                                                                |\n",
            "| m1757 | ['m2160']                                                                         |\n",
            "| m1759 | []                                                                                |\n",
            "| m1760 | []                                                                                |\n",
            "| m1761 | ['m1988', 'm1783', 'm1789', 'm1959', 'm2157', 'm1960', 'm1886', 'm2158']          |\n",
            "| m1763 | ['m2084']                                                                         |\n",
            "| m1764 | []                                                                                |\n",
            "| m1765 | []                                                                                |\n",
            "| m1766 | []                                                                                |\n",
            "| m1767 | []                                                                                |\n",
            "| m1768 | []                                                                                |\n",
            "| m1769 | []                                                                                |\n",
            "| m1770 | []                                                                                |\n",
            "| m1771 | ['m1949', 'm2111']                                                                |\n",
            "| m1772 | []                                                                                |\n",
            "| m1774 | []                                                                                |\n",
            "| m1775 | []                                                                                |\n",
            "| m1777 | []                                                                                |\n",
            "| m1778 | ['m2148', 'm2167', 'm1955']                                                       |\n",
            "| m1779 | []                                                                                |\n",
            "| m1780 | []                                                                                |\n",
            "| m1784 | []                                                                                |\n",
            "| m1788 | ['m1892', 'm1876']                                                                |\n",
            "| m1791 | []                                                                                |\n",
            "| m1792 | []                                                                                |\n",
            "| m1793 | ['m1786', 'm1758', 'm1846', 'm1751']                                              |\n",
            "| m1795 | []                                                                                |\n",
            "| m1796 | []                                                                                |\n",
            "| m1797 | []                                                                                |\n",
            "| m1798 | []                                                                                |\n",
            "| m1799 | []                                                                                |\n",
            "| m1802 | []                                                                                |\n",
            "| m1803 | ['m1971', 'm2148']                                                                |\n",
            "| m1804 | []                                                                                |\n",
            "| m1807 | []                                                                                |\n",
            "| m1808 | []                                                                                |\n",
            "| m1810 | []                                                                                |\n",
            "| m1811 | []                                                                                |\n",
            "| m1812 | []                                                                                |\n",
            "| m1813 | []                                                                                |\n",
            "| m1814 | ['m1829', 'm1960']                                                                |\n",
            "| m1815 | ['m1800', 'm2096']                                                                |\n",
            "| m1816 | []                                                                                |\n",
            "| m1817 | []                                                                                |\n",
            "| m1818 | []                                                                                |\n",
            "| m1820 | []                                                                                |\n",
            "| m1825 | ['m2121']                                                                         |\n",
            "| m1826 | []                                                                                |\n",
            "| m1828 | []                                                                                |\n",
            "| m1829 | ['m2118', 'm1953', 'm2120', 'm2183', 'm1814', 'm2188']                            |\n",
            "| m1831 | ['m1837']                                                                         |\n",
            "| m1832 | []                                                                                |\n",
            "| m1833 | []                                                                                |\n",
            "| m1834 | ['m1985', 'm1993']                                                                |\n",
            "| m1836 | ['m1903']                                                                         |\n",
            "| m1837 | ['m1831']                                                                         |\n",
            "| m1838 | ['m2044']                                                                         |\n",
            "| m1840 | ['m2121', 'm2125']                                                                |\n",
            "| m1841 | []                                                                                |\n",
            "| m1842 | []                                                                                |\n",
            "| m1844 | []                                                                                |\n",
            "| m1846 | ['m1786', 'm1758', 'm1793', 'm1751']                                              |\n",
            "| m1848 | []                                                                                |\n",
            "| m1849 | []                                                                                |\n",
            "| m1850 | ['m1881']                                                                         |\n",
            "| m1851 | []                                                                                |\n",
            "| m1852 | []                                                                                |\n",
            "| m1853 | []                                                                                |\n",
            "| m1854 | ['m2012']                                                                         |\n",
            "| m1855 | ['m1873', 'm2003', 'm1887', 'm2098']                                              |\n",
            "| m1857 | []                                                                                |\n",
            "| m1858 | ['m1915']                                                                         |\n",
            "| m1859 | ['m1960', 'm2186']                                                                |\n",
            "| m1860 | ['m1908', 'm2047', 'm2112', 'm2102']                                              |\n",
            "| m1861 | ['m2067', 'm1937', 'm1969', 'm1890', 'm1993']                                     |\n",
            "| m1863 | []                                                                                |\n",
            "| m1864 | ['m2106', 'm1932', 'm1978', 'm2134', 'm2076', 'm1914', 'm2031', 'm2104']          |\n",
            "| m1867 | []                                                                                |\n",
            "| m1868 | ['m2077']                                                                         |\n",
            "| m1870 | []                                                                                |\n",
            "| m1871 | []                                                                                |\n",
            "| m1873 | ['m1855', 'm2003', 'm1887', 'm2098']                                              |\n",
            "| m1874 | []                                                                                |\n",
            "| m1877 | []                                                                                |\n",
            "| m1880 | []                                                                                |\n",
            "| m1881 | ['m1850']                                                                         |\n",
            "| m1883 | []                                                                                |\n",
            "| m1884 | []                                                                                |\n",
            "| m1885 | ['m1937', 'm1946', 'm2094', 'm1956', 'm2114', 'm1823', 'm1960']                   |\n",
            "| m1887 | ['m1855', 'm1873', 'm2003', 'm2098']                                              |\n",
            "| m1889 | []                                                                                |\n",
            "| m1890 | ['m2067', 'm1937', 'm1969', 'm1861', 'm1993']                                     |\n",
            "| m1892 | ['m1788', 'm1876', 'm2139']                                                       |\n",
            "| m1893 | []                                                                                |\n",
            "| m1894 | []                                                                                |\n",
            "| m1895 | []                                                                                |\n",
            "| m1896 | []                                                                                |\n",
            "| m1897 | []                                                                                |\n",
            "| m1898 | []                                                                                |\n",
            "| m1899 | []                                                                                |\n",
            "| m1900 | []                                                                                |\n",
            "| m1901 | []                                                                                |\n",
            "| m1902 | ['m2045']                                                                         |\n",
            "| m1905 | []                                                                                |\n",
            "| m1906 | []                                                                                |\n",
            "| m1907 | []                                                                                |\n",
            "| m1908 | ['m1860', 'm2047', 'm2112', 'm2102']                                              |\n",
            "| m1909 | []                                                                                |\n",
            "| m1911 | []                                                                                |\n",
            "| m1912 | ['m2171']                                                                         |\n",
            "| m1913 | []                                                                                |\n",
            "| m1914 | ['m2106', 'm1932', 'm1864', 'm1978', 'm2134', 'm2076', 'm2031', 'm2104']          |\n",
            "| m1915 | ['m1858']                                                                         |\n",
            "| m1916 | []                                                                                |\n",
            "| m1919 | []                                                                                |\n",
            "| m1922 | []                                                                                |\n",
            "| m1923 | []                                                                                |\n",
            "| m1924 | []                                                                                |\n",
            "| m1927 | ['m1996']                                                                         |\n",
            "| m1928 | ['m1962', 'm2199']                                                                |\n",
            "| m1929 | []                                                                                |\n",
            "| m1930 | []                                                                                |\n",
            "| m1931 | ['m2103', 'm1971', 'm2119', 'm2118', 'm1960']                                     |\n",
            "| m1932 | ['m2106', 'm1864', 'm1978', 'm2134', 'm2076', 'm1914', 'm2031', 'm2104']          |\n",
            "| m1934 | []                                                                                |\n",
            "| m1938 | []                                                                                |\n",
            "| m1939 | []                                                                                |\n",
            "| m1940 | ['m2180']                                                                         |\n",
            "| m1941 | []                                                                                |\n",
            "| m1942 | []                                                                                |\n",
            "| m1944 | []                                                                                |\n",
            "| m1945 | []                                                                                |\n",
            "| m1947 | []                                                                                |\n",
            "| m1948 | []                                                                                |\n",
            "| m1949 | ['m1771', 'm2111']                                                                |\n",
            "| m1950 | ['m1988']                                                                         |\n",
            "| m1952 | []                                                                                |\n",
            "| m1955 | ['m1778']                                                                         |\n",
            "| m1956 | ['m1937', 'm1946', 'm2094', 'm2114', 'm1885', 'm1823', 'm1960']                   |\n",
            "| m1957 | []                                                                                |\n",
            "| m1958 | ['m1960', 'm2029', 'm2104']                                                       |\n",
            "| m1959 | ['m1783', 'm1789', 'm2020', 'm1960', 'm2158', 'm1761']                            |\n",
            "| m1961 | ['m2009', 'm2197']                                                                |\n",
            "| m1962 | ['m1928']                                                                         |\n",
            "| m1963 | ['m1953']                                                                         |\n",
            "| m1964 | []                                                                                |\n",
            "| m1966 | []                                                                                |\n",
            "| m1968 | ['m1976']                                                                         |\n",
            "| m1971 | ['m2103', 'm2148', 'm1803', 'm2119', 'm2118', 'm1931', 'm1960']                   |\n",
            "| m1973 | []                                                                                |\n",
            "| m1974 | []                                                                                |\n",
            "| m1975 | []                                                                                |\n",
            "| m1976 | ['m1968']                                                                         |\n",
            "| m1977 | []                                                                                |\n",
            "| m1978 | ['m2106', 'm1932', 'm1864', 'm2134', 'm2076', 'm1914', 'm2031', 'm2104']          |\n",
            "| m1979 | []                                                                                |\n",
            "| m1980 | []                                                                                |\n",
            "| m1981 | ['m2083']                                                                         |\n",
            "| m1983 | []                                                                                |\n",
            "| m1984 | []                                                                                |\n",
            "| m1985 | ['m1834', 'm1993']                                                                |\n",
            "| m1986 | []                                                                                |\n",
            "| m1987 | ['m2143', 'm2141']                                                                |\n",
            "| m1992 | []                                                                                |\n",
            "| m1995 | []                                                                                |\n",
            "| m1996 | ['m1927']                                                                         |\n",
            "| m1998 | ['m2087', 'm2156', 'm2119', 'm1875', 'm1794']                                     |\n",
            "| m2000 | []                                                                                |\n",
            "| m2002 | []                                                                                |\n",
            "| m2003 | ['m1855', 'm1873', 'm1887', 'm2098']                                              |\n",
            "| m2005 | []                                                                                |\n",
            "| m2006 | []                                                                                |\n",
            "| m2009 | ['m1961', 'm2197']                                                                |\n",
            "| m2010 | []                                                                                |\n",
            "| m2011 | []                                                                                |\n",
            "| m2012 | ['m1854']                                                                         |\n",
            "| m2013 | []                                                                                |\n",
            "| m2014 | []                                                                                |\n",
            "| m2016 | []                                                                                |\n",
            "| m2017 | []                                                                                |\n",
            "| m2019 | []                                                                                |\n",
            "| m2020 | ['m1959']                                                                         |\n",
            "| m2022 | []                                                                                |\n",
            "| m2024 | []                                                                                |\n",
            "| m2025 | []                                                                                |\n",
            "| m2026 | []                                                                                |\n",
            "| m2029 | ['m1960', 'm1958', 'm2104']                                                       |\n",
            "| m2030 | []                                                                                |\n",
            "| m2031 | ['m2106', 'm1932', 'm1864', 'm1978', 'm2134', 'm2076', 'm1914', 'm2104']          |\n",
            "| m2032 | []                                                                                |\n",
            "| m2033 | []                                                                                |\n",
            "| m2034 | ['m1920', 'm1762', 'm1783']                                                       |\n",
            "| m2035 | []                                                                                |\n",
            "| m2036 | []                                                                                |\n",
            "| m2037 | []                                                                                |\n",
            "| m2040 | ['m2110']                                                                         |\n",
            "| m2041 | []                                                                                |\n",
            "| m2042 | []                                                                                |\n",
            "| m2044 | ['m1838']                                                                         |\n",
            "| m2045 | ['m1902']                                                                         |\n",
            "| m2046 | []                                                                                |\n",
            "| m2047 | ['m1860', 'm1908', 'm2112', 'm2102']                                              |\n",
            "| m2049 | []                                                                                |\n",
            "| m2052 | []                                                                                |\n",
            "| m2053 | []                                                                                |\n",
            "| m2055 | []                                                                                |\n",
            "| m2057 | []                                                                                |\n",
            "| m2058 | ['m2147']                                                                         |\n",
            "| m2059 | []                                                                                |\n",
            "| m2060 | ['m2126']                                                                         |\n",
            "| m2061 | []                                                                                |\n",
            "| m2062 | []                                                                                |\n",
            "| m2063 | []                                                                                |\n",
            "| m2064 | ['m1748']                                                                         |\n",
            "| m2065 | []                                                                                |\n",
            "| m2067 | ['m1937', 'm1969', 'm1861', 'm1890', 'm1993']                                     |\n",
            "| m2068 | []                                                                                |\n",
            "| m2069 | []                                                                                |\n",
            "| m2072 | []                                                                                |\n",
            "| m2073 | []                                                                                |\n",
            "| m2075 | []                                                                                |\n",
            "| m2076 | ['m2106', 'm1932', 'm1864', 'm1978', 'm2134', 'm1914', 'm2031', 'm2104']          |\n",
            "| m2077 | ['m1868']                                                                         |\n",
            "| m2079 | ['m2103']                                                                         |\n",
            "| m2081 | []                                                                                |\n",
            "| m2082 | []                                                                                |\n",
            "| m2083 | ['m1981', 'm1747']                                                                |\n",
            "| m2084 | ['m2166', 'm1763']                                                                |\n",
            "| m2085 | []                                                                                |\n",
            "| m2086 | []                                                                                |\n",
            "| m2088 | []                                                                                |\n",
            "| m2090 | []                                                                                |\n",
            "| m2091 | []                                                                                |\n",
            "| m2093 | ['m1800']                                                                         |\n",
            "| m2096 | ['m1800', 'm1815']                                                                |\n",
            "| m2097 | []                                                                                |\n",
            "| m2098 | ['m1855', 'm1873', 'm2003', 'm1887']                                              |\n",
            "| m2099 | []                                                                                |\n",
            "| m2101 | []                                                                                |\n",
            "| m2102 | ['m1860', 'm1908', 'm2047', 'm2112']                                              |\n",
            "| m2103 | ['m2079', 'm1971', 'm2119', 'm2118', 'm1931', 'm1960']                            |\n",
            "| m2106 | ['m1932', 'm1864', 'm1978', 'm2134', 'm2076', 'm1914', 'm2031', 'm2104']          |\n",
            "| m2107 | []                                                                                |\n",
            "| m2109 | []                                                                                |\n",
            "| m2110 | ['m2040']                                                                         |\n",
            "| m2111 | ['m1949', 'm1771']                                                                |\n",
            "| m2112 | ['m1860', 'm1908', 'm2047', 'm2102']                                              |\n",
            "| m2113 | []                                                                                |\n",
            "| m2115 | ['m2145']                                                                         |\n",
            "| m2122 | []                                                                                |\n",
            "| m2123 | []                                                                                |\n",
            "| m2124 | []                                                                                |\n",
            "| m2126 | ['m2060']                                                                         |\n",
            "| m2128 | []                                                                                |\n",
            "| m2129 | []                                                                                |\n",
            "| m2132 | []                                                                                |\n",
            "| m2133 | []                                                                                |\n",
            "| m2135 | []                                                                                |\n",
            "| m2137 | []                                                                                |\n",
            "| m2138 | []                                                                                |\n",
            "| m2139 | ['m1892']                                                                         |\n",
            "| m2140 | []                                                                                |\n",
            "| m2141 | ['m1987']                                                                         |\n",
            "| m2142 | []                                                                                |\n",
            "| m2143 | ['m1987']                                                                         |\n",
            "| m2144 | []                                                                                |\n",
            "| m2145 | ['m2115']                                                                         |\n",
            "| m2146 | []                                                                                |\n",
            "| m2147 | ['m2058']                                                                         |\n",
            "| m2148 | ['m1803', 'm2167', 'm1971', 'm1778']                                              |\n",
            "| m2149 | []                                                                                |\n",
            "| m2150 | []                                                                                |\n",
            "| m2151 | []                                                                                |\n",
            "| m2152 | ['m1946', 'm2194', 'm2165', 'm1970']                                              |\n",
            "| m2153 | []                                                                                |\n",
            "| m2154 | []                                                                                |\n",
            "| m2155 | []                                                                                |\n",
            "| m2156 | ['m1998', 'm2087', 'm2119', 'm1875', 'm1794']                                     |\n",
            "| m2158 | ['m1783', 'm1789', 'm1959', 'm1960', 'm1761']                                     |\n",
            "| m2160 | ['m1757']                                                                         |\n",
            "| m2162 | []                                                                                |\n",
            "| m2163 | []                                                                                |\n",
            "| m2165 | ['m1946', 'm2152', 'm2194', 'm1970']                                              |\n",
            "| m2166 | ['m2084']                                                                         |\n",
            "| m2167 | ['m1778', 'm2148']                                                                |\n",
            "| m2168 | []                                                                                |\n",
            "| m2170 | []                                                                                |\n",
            "| m2171 | ['m1912']                                                                         |\n",
            "| m2172 | []                                                                                |\n",
            "| m2173 | []                                                                                |\n",
            "| m2175 | []                                                                                |\n",
            "| m2178 | ['m1839']                                                                         |\n",
            "| m2179 | []                                                                                |\n",
            "| m2180 | ['m1969', 'm2159', 'm1940']                                                       |\n",
            "| m2181 | []                                                                                |\n",
            "| m2182 | []                                                                                |\n",
            "| m2184 | []                                                                                |\n",
            "| m2185 | []                                                                                |\n",
            "| m2186 | ['m1859']                                                                         |\n",
            "| m2189 | ['m2089']                                                                         |\n",
            "| m2190 | []                                                                                |\n",
            "| m2191 | []                                                                                |\n",
            "| m2192 | []                                                                                |\n",
            "| m2194 | ['m1946', 'm2152', 'm2165', 'm1970']                                              |\n",
            "| m2196 | []                                                                                |\n",
            "| m2197 | ['m2009', 'm1961']                                                                |\n",
            "| m2198 | []                                                                                |\n",
            "| m2199 | ['m1928']                                                                         |\n",
            "| m2200 | []                                                                                |\n",
            "| m2201 | []                                                                                |\n",
            "| m2202 | ['m1920']                                                                         |\n",
            "| m2203 | ['m2021', 'm2087']                                                                |\n",
            "| m2204 | []                                                                                |\n",
            "| m2214 | []                                                                                |\n",
            "| m2218 | ['m2349', 'm2547', 'm2392', 'm2326']                                              |\n",
            "| m2228 | ['m2408', 'm2446', 'm2243', 'm2304', 'm2449', 'm2331', 'm2569', 'm2275', 'm2440'] |\n",
            "| m2256 | ['m2601', 'm2340', 'm2324', 'm2595', 'm2473', 'm2593', 'm2615', 'm2651', 'm2432'] |\n",
            "| m2260 | ['m2371', 'm2660', 'm2233']                                                       |\n",
            "| m2273 | []                                                                                |\n",
            "| m2283 | ['m2226', 'm2269', 'm2387']                                                       |\n",
            "| m2287 | ['m2333', 'm2462', 'm2235']                                                       |\n",
            "| m2311 | []                                                                                |\n",
            "| m2312 | ['m2445', 'm2375', 'm2402', 'm2661', 'm2495', 'm2333']                            |\n",
            "| m2351 | ['m2377', 'm2660', 'm2537']                                                       |\n",
            "| m2385 | ['m2500', 'm2252', 'm2220', 'm2249', 'm2292', 'm2619']                            |\n",
            "| m2410 | []                                                                                |\n",
            "| m2414 | ['m2211', 'm2577', 'm2324', 'm2259', 'm2294']                                     |\n",
            "| m2420 | []                                                                                |\n",
            "| m2433 | ['m2511', 'm2278', 'm2428', 'm2483', 'm2268', 'm2452']                            |\n",
            "| m2458 | ['m2327', 'm2462', 'm2293', 'm2531', 'm2538']                                     |\n",
            "| m2478 | ['m2416']                                                                         |\n",
            "| m2497 | ['m2412', 'm2332', 'm2490']                                                       |\n",
            "| m2523 | ['m2532']                                                                         |\n",
            "| m2538 | ['m2458', 'm2437', 'm2327']                                                       |\n",
            "| m2550 | []                                                                                |\n",
            "| m2566 | ['m2634']                                                                         |\n",
            "| m2585 | []                                                                                |\n",
            "| m2610 | ['m2253', 'm2644']                                                                |\n",
            "| m2621 | ['m2212']                                                                         |\n",
            "| m2645 | ['m2393', 'm2496', 'm2618', 'm2460', 'm2544', 'm2527']                            |\n",
            "| m2651 | ['m2601', 'm2340', 'm2256', 'm2605', 'm2324', 'm2593', 'm2432', 'm2615']          |\n",
            "| m2659 | []                                                                                |\n",
            "+-------+-----------------------------------------------------------------------------------+\n"
          ]
        }
      ],
      "source": [
        "from prettytable import PrettyTable\n",
        "\n",
        "table = PrettyTable()\n",
        "table.field_names = ['GOAL', 'NEIGHBOURS']\n",
        "\n",
        "#the whole dataset search\n",
        "df_grammms = dgsearch(df, 5)\n",
        "wl, lsh = MH(num_perm=128, df_grammms=df_grammms)\n",
        "uniq = uniq_count(wl, lsh, 3000, True, table=table)\n",
        "\n",
        "table.align = \"l\"\n",
        "print(table)"
      ]
    },
    {
      "cell_type": "markdown",
      "metadata": {},
      "source": [
        "> I print only the rows with less than 10 neighbours just to make table look better"
      ]
    },
    {
      "cell_type": "code",
      "execution_count": 12,
      "metadata": {},
      "outputs": [
        {
          "data": {
            "application/vnd.jupyter.widget-view+json": {
              "model_id": "cc3b913701864f059db21dc6a06476cd",
              "version_major": 2,
              "version_minor": 0
            },
            "text/plain": [
              "Text(value='Total unique 3000: 298', description='Result:', layout=Layout(height='80px', width='100%'), placeh…"
            ]
          },
          "metadata": {},
          "output_type": "display_data"
        },
        {
          "name": "stdout",
          "output_type": "stream",
          "text": [
            "Total unique 3000: 298\n"
          ]
        }
      ],
      "source": [
        "from ipywidgets.widgets import Text\n",
        "from IPython.display import display\n",
        "\n",
        "f = f\"Total unique 3000: {uniq}\"\n",
        "t = Text(value=f,placeholder='Duplicates:',description='Result:',disabled=False, layout=Layout(width='100%', height='80px'))\n",
        "display(t)\n",
        "print(f)"
      ]
    },
    {
      "cell_type": "markdown",
      "metadata": {},
      "source": [
        "> by size:"
      ]
    },
    {
      "cell_type": "code",
      "execution_count": 13,
      "metadata": {},
      "outputs": [
        {
          "name": "stdout",
          "output_type": "stream",
          "text": [
            "Minhash len = 3, uniq = 103\n",
            "Minhash len = 4, uniq = 319\n",
            "Minhash len = 5, uniq = 298\n",
            "Minhash len = 6, uniq = 170\n",
            "Minhash len = 7, uniq = 360\n",
            "Minhash len = 8, uniq = 373\n",
            "Minhash len = 9, uniq = 376\n",
            "Minhash len = 10, uniq = 513\n",
            "Minhash len = 11, uniq = 458\n",
            "Minhash len = 12, uniq = 637\n",
            "Minhash len = 13, uniq = 598\n",
            "Minhash len = 14, uniq = 647\n",
            "Minhash len = 15, uniq = 688\n",
            "Minhash len = 16, uniq = 770\n",
            "Minhash len = 17, uniq = 740\n",
            "Minhash len = 18, uniq = 868\n",
            "Minhash len = 19, uniq = 845\n"
          ]
        }
      ],
      "source": [
        "full_uniq = []\n",
        "full_i = []\n",
        "for i in range(3, 20):\n",
        "    df_grammms = dgsearch(df, i)\n",
        "    wl, lsh = MH(num_perm=128, df_grammms=df_grammms)\n",
        "    uniq = uniq_count(wl, lsh, 3000, True, table=table)\n",
        "    full_uniq.append(uniq)\n",
        "    full_i.append(i)\n",
        "    f = f'Minhash len = {i}, uniq = {uniq}'\n",
        "    print(f)"
      ]
    },
    {
      "cell_type": "code",
      "execution_count": 14,
      "metadata": {},
      "outputs": [
        {
          "data": {
            "text/plain": [
              "[<matplotlib.lines.Line2D at 0x162283d60>]"
            ]
          },
          "execution_count": 14,
          "metadata": {},
          "output_type": "execute_result"
        },
        {
          "data": {
            "image/png": "[encoded data removed]",
            "text/plain": [
              "<Figure size 1440x720 with 1 Axes>"
            ]
          },
          "metadata": {
            "needs_background": "light"
          },
          "output_type": "display_data"
        }
      ],
      "source": [
        "import matplotlib.pyplot as plt\n",
        "\n",
        "plt.figure(figsize=(20,10))\n",
        "plt.plot(full_i, full_uniq)"
      ]
    },
    {
      "cell_type": "markdown",
      "metadata": {},
      "source": [
        "> **I SHOW THE NUMBER OF UNIQ WORDS, THATS' WHY PLOT INCREASE**"
      ]
    },
    {
      "cell_type": "markdown",
      "metadata": {},
      "source": [
        "> by num_perm"
      ]
    },
    {
      "cell_type": "code",
      "execution_count": 15,
      "metadata": {},
      "outputs": [
        {
          "name": "stdout",
          "output_type": "stream",
          "text": [
            "num_perm = 128, uniq = 298\n",
            "num_perm = 256, uniq = 305\n",
            "num_perm = 384, uniq = 215\n",
            "num_perm = 512, uniq = 285\n",
            "num_perm = 640, uniq = 257\n",
            "num_perm = 768, uniq = 219\n",
            "num_perm = 896, uniq = 219\n",
            "num_perm = 1024, uniq = 278\n",
            "num_perm = 1152, uniq = 258\n"
          ]
        }
      ],
      "source": [
        "full_uniq = []\n",
        "full_i = []\n",
        "for i in range(128, 1280, 128):\n",
        "    df_grammms = dgsearch(df, 5)\n",
        "    wl, lsh = MH(num_perm=i, df_grammms=df_grammms)\n",
        "    uniq = uniq_count(wl, lsh, 3000, True, table=table)\n",
        "    full_uniq.append(uniq)\n",
        "    full_i.append(i)\n",
        "    f = f'num_perm = {i}, uniq = {uniq}'\n",
        "    print(f)"
      ]
    },
    {
      "cell_type": "code",
      "execution_count": 16,
      "metadata": {},
      "outputs": [
        {
          "data": {
            "text/plain": [
              "[<matplotlib.lines.Line2D at 0x2aa390e80>]"
            ]
          },
          "execution_count": 16,
          "metadata": {},
          "output_type": "execute_result"
        },
        {
          "data": {
            "image/png": "[encoded data removed]",
            "text/plain": [
              "<Figure size 1440x720 with 1 Axes>"
            ]
          },
          "metadata": {
            "needs_background": "light"
          },
          "output_type": "display_data"
        }
      ],
      "source": [
        "import matplotlib.pyplot as plt\n",
        "\n",
        "plt.figure(figsize=(20,10))\n",
        "plt.plot(full_i, full_uniq)"
      ]
    },
    {
      "cell_type": "markdown",
      "metadata": {
        "id": "njdTa1daDMVS"
      },
      "source": [
        "# [Optional 10 points] Part 3. Topic model"
      ]
    },
    {
      "cell_type": "markdown",
      "metadata": {
        "id": "4BwJNkn2DMVT"
      },
      "source": [
        "In this part you will learn how to do topic modeling with common tools and assess the resulting quality of the models. "
      ]
    },
    {
      "cell_type": "code",
      "execution_count": 1,
      "metadata": {
        "id": "l0WcLMhHDMVT"
      },
      "outputs": [
        {
          "name": "stderr",
          "output_type": "stream",
          "text": [
            "[nltk_data] Downloading package stopwords to\n",
            "[nltk_data]     /Users/zer0deck/nltk_data...\n",
            "[nltk_data]   Package stopwords is already up-to-date!\n",
            "[nltk_data] Downloading package wordnet to\n",
            "[nltk_data]     /Users/zer0deck/nltk_data...\n",
            "[nltk_data]   Package wordnet is already up-to-date!\n",
            "[nltk_data] Downloading package omw-1.4 to\n",
            "[nltk_data]     /Users/zer0deck/nltk_data...\n",
            "[nltk_data]   Package omw-1.4 is already up-to-date!\n"
          ]
        }
      ],
      "source": [
        "from sklearn.model_selection import train_test_split\n",
        "from gensim.models import Nmf, LdaModel, CoherenceModel\n",
        "from gensim import corpora\n",
        "from preprocessing import text_filter\n",
        "from prettytable import PrettyTable\n",
        "\n",
        "import time, numpy\n",
        "from ipywidgets import Text, Layout\n",
        "from IPython.display import display\n",
        "import pandas as pd"
      ]
    },
    {
      "cell_type": "markdown",
      "metadata": {
        "id": "WkNFzxqPDMVU"
      },
      "source": [
        "The provided data contain chunked stories by Edgar Allan Poe (EAP), Mary Shelley (MWS), and HP Lovecraft (HPL).\n",
        "\n",
        "The dataset can be downloaded here: `https://drive.google.com/file/d/14tAjAzHr6UmFVFV7ABTyNHBh-dWHAaLH/view?usp=sharing`"
      ]
    },
    {
      "cell_type": "markdown",
      "metadata": {
        "id": "5BNIa1miDMVU"
      },
      "source": [
        "#### Preprocess dataset with the functions from the Part 1"
      ]
    },
    {
      "cell_type": "code",
      "execution_count": 2,
      "metadata": {
        "id": "9B8PZNRyDMVV"
      },
      "outputs": [
        {
          "data": {
            "text/html": [
              "<div>\n",
              "<style scoped>\n",
              "    .dataframe tbody tr th:only-of-type {\n",
              "        vertical-align: middle;\n",
              "    }\n",
              "\n",
              "    .dataframe tbody tr th {\n",
              "        vertical-align: top;\n",
              "    }\n",
              "\n",
              "    .dataframe thead th {\n",
              "        text-align: right;\n",
              "    }\n",
              "</style>\n",
              "<table border=\"1\" class=\"dataframe\">\n",
              "  <thead>\n",
              "    <tr style=\"text-align: right;\">\n",
              "      <th></th>\n",
              "      <th>id</th>\n",
              "      <th>text</th>\n",
              "      <th>author</th>\n",
              "    </tr>\n",
              "  </thead>\n",
              "  <tbody>\n",
              "    <tr>\n",
              "      <th>0</th>\n",
              "      <td>id26305</td>\n",
              "      <td>This process, however, afforded me no means of...</td>\n",
              "      <td>EAP</td>\n",
              "    </tr>\n",
              "    <tr>\n",
              "      <th>1</th>\n",
              "      <td>id17569</td>\n",
              "      <td>It never once occurred to me that the fumbling...</td>\n",
              "      <td>HPL</td>\n",
              "    </tr>\n",
              "    <tr>\n",
              "      <th>2</th>\n",
              "      <td>id11008</td>\n",
              "      <td>In his left hand was a gold snuff box, from wh...</td>\n",
              "      <td>EAP</td>\n",
              "    </tr>\n",
              "    <tr>\n",
              "      <th>3</th>\n",
              "      <td>id27763</td>\n",
              "      <td>How lovely is spring As we looked from Windsor...</td>\n",
              "      <td>MWS</td>\n",
              "    </tr>\n",
              "    <tr>\n",
              "      <th>4</th>\n",
              "      <td>id12958</td>\n",
              "      <td>Finding nothing else, not even gold, the Super...</td>\n",
              "      <td>HPL</td>\n",
              "    </tr>\n",
              "    <tr>\n",
              "      <th>5</th>\n",
              "      <td>id22965</td>\n",
              "      <td>A youth passed in solitude, my best years spen...</td>\n",
              "      <td>MWS</td>\n",
              "    </tr>\n",
              "    <tr>\n",
              "      <th>6</th>\n",
              "      <td>id09674</td>\n",
              "      <td>The astronomer, perhaps, at this point, took r...</td>\n",
              "      <td>EAP</td>\n",
              "    </tr>\n",
              "  </tbody>\n",
              "</table>\n",
              "</div>"
            ],
            "text/plain": [
              "        id                                               text author\n",
              "0  id26305  This process, however, afforded me no means of...    EAP\n",
              "1  id17569  It never once occurred to me that the fumbling...    HPL\n",
              "2  id11008  In his left hand was a gold snuff box, from wh...    EAP\n",
              "3  id27763  How lovely is spring As we looked from Windsor...    MWS\n",
              "4  id12958  Finding nothing else, not even gold, the Super...    HPL\n",
              "5  id22965  A youth passed in solitude, my best years spen...    MWS\n",
              "6  id09674  The astronomer, perhaps, at this point, took r...    EAP"
            ]
          },
          "execution_count": 2,
          "metadata": {},
          "output_type": "execute_result"
        }
      ],
      "source": [
        "df = pd.read_csv('data.csv', header=0, sep=',')\n",
        "df.head(7)"
      ]
    },
    {
      "cell_type": "code",
      "execution_count": 3,
      "metadata": {},
      "outputs": [
        {
          "data": {
            "application/vnd.jupyter.widget-view+json": {
              "model_id": "9efaecfbc8bf4d399a9d04f7ed9c5daa",
              "version_major": 2,
              "version_minor": 0
            },
            "text/plain": [
              "Text(value='0', description='Filtering:', layout=Layout(height='80px', width='50%'), placeholder='Empty')"
            ]
          },
          "metadata": {},
          "output_type": "display_data"
        },
        {
          "name": "stderr",
          "output_type": "stream",
          "text": [
            "/Users/zer0deck/Documents/Документы/Магистратура/nlp/preprocessing.py:100: GuessedAtParserWarning: No parser was explicitly specified, so I'm using the best available HTML parser for this system (\"lxml\"). This usually isn't a problem, but if you run this code on another system, or in a different virtual environment, it may use a different parser and behave differently.\n",
            "\n",
            "The code that caused this warning is on line 100 of the file /Users/zer0deck/Documents/Документы/Магистратура/nlp/preprocessing.py. To get rid of this warning, pass the additional argument 'features=\"lxml\"' to the BeautifulSoup constructor.\n",
            "\n",
            "  soup = BeautifulSoup(inputt)\n"
          ]
        }
      ],
      "source": [
        "t = Text(value='0',placeholder='Empty',description='Filtering:',disabled=False, layout=Layout(width='50%', height='80px'))\n",
        "display(t)\n",
        "full_text_l = []\n",
        "start = time.time()\n",
        "df = df[['text', 'author']]\n",
        "\n",
        "for i, text in enumerate(df['text']):\n",
        "\n",
        "        clear_text = text_filter(text)\n",
        "        full_text_l.append(clear_text)\n",
        "        df['text'].iloc[i] = clear_text\n",
        "\n",
        "        percent = numpy.round(i/len(df)*100, 3)\n",
        "        now = numpy.round(time.time()-start, 3)\n",
        "        \n",
        "        # t.value = f'Completed: {percent}%, Time gone:{now}'"
      ]
    },
    {
      "cell_type": "markdown",
      "metadata": {
        "id": "qKU2D29CDMVV"
      },
      "source": [
        "#### Quality estimation"
      ]
    },
    {
      "cell_type": "markdown",
      "metadata": {
        "id": "l6xfd3vpDMVW"
      },
      "source": [
        "Implement the following three quality fuctions: `coherence` (or `tf-idf coherence`), `normalized PMI`, `based on the distributed word representation`(you can use pretrained w2v vectors or some other model). You are free to use any libraries (for instance gensim) and components."
      ]
    },
    {
      "cell_type": "code",
      "execution_count": 4,
      "metadata": {
        "id": "AEtv-gWcDMVW"
      },
      "outputs": [],
      "source": [
        "def calculate_metrics(model, texts, dictionary):\n",
        "    coherence = CoherenceModel(model=model, texts=texts,\n",
        "        dictionary=dictionary, coherence='c_v')\n",
        "    \n",
        "    nmpi = CoherenceModel(model=model, texts=texts,\n",
        "        dictionary=dictionary, coherence='c_npmi')\n",
        "    \n",
        "    mass = CoherenceModel(model=model, texts=texts,\n",
        "        dictionary=dictionary, coherence='u_mass')\n",
        "    \n",
        "    return coherence, nmpi, mass"
      ]
    },
    {
      "cell_type": "markdown",
      "metadata": {
        "id": "Kp1jTJmPDMVX"
      },
      "source": [
        "### Topic modeling"
      ]
    },
    {
      "cell_type": "markdown",
      "metadata": {
        "id": "lgbVtgphDMVX"
      },
      "source": [
        "Read and preprocess the dataset, divide it into train and test parts `sklearn.model_selection.train_test_split`. Test part will be used in classification part. For simplicity we do not perform cross-validation here, but you should remember about it."
      ]
    },
    {
      "cell_type": "code",
      "execution_count": 5,
      "metadata": {
        "id": "_Uh0J_C8DMVY"
      },
      "outputs": [],
      "source": [
        "X = df['text']\n",
        "y = df['author']\n",
        "\n",
        "# Splitting data into train and test parts.\n",
        "X_train, X_test, y_train, y_test = train_test_split(X, y, test_size=0.25)\n",
        "X_train, y_train = X_train.reset_index(drop=True), y_train.reset_index(drop=True)"
      ]
    },
    {
      "cell_type": "markdown",
      "metadata": {
        "id": "rNepVz1wDMVY"
      },
      "source": [
        "Plot the histogram of resulting tokens counts in the processed datasets."
      ]
    },
    {
      "cell_type": "code",
      "execution_count": 6,
      "metadata": {
        "id": "L_7JVEfbDMVZ"
      },
      "outputs": [
        {
          "data": {
            "image/png": "[encoded data removed]",
            "text/plain": [
              "<Figure size 1800x720 with 1 Axes>"
            ]
          },
          "metadata": {
            "needs_background": "light"
          },
          "output_type": "display_data"
        },
        {
          "data": {
            "text/plain": [
              "<AxesSubplot:xlabel='Samples', ylabel='Counts'>"
            ]
          },
          "execution_count": 6,
          "metadata": {},
          "output_type": "execute_result"
        }
      ],
      "source": [
        "from nltk.probability import FreqDist\n",
        "import matplotlib.pyplot as plt\n",
        "full_text = \" \".join(full_text_l)\n",
        "plt.figure(figsize=(25,10))\n",
        "graph = FreqDist(full_text.split())\n",
        "graph.plot(100)"
      ]
    },
    {
      "cell_type": "markdown",
      "metadata": {
        "id": "4N86AaGNDMVa"
      },
      "source": [
        "#### NMF"
      ]
    },
    {
      "cell_type": "markdown",
      "metadata": {
        "id": "kPelcAFQDMVa"
      },
      "source": [
        "Implement topic modeling with NMF (you can use `sklearn.decomposition.NMF`) and print out resulting topics. Try to change hyperparameters to better fit the dataset."
      ]
    },
    {
      "cell_type": "code",
      "execution_count": 7,
      "metadata": {
        "id": "DCPzCMMMDMVa"
      },
      "outputs": [],
      "source": [
        "text_data = []\n",
        "\n",
        "# Data preprocessing for model training.\n",
        "for index in range(len(X_train)):\n",
        "    text_data.append(X_train[index].split())\n",
        "\n",
        "dictionary = corpora.Dictionary(text_data)\n",
        "corpus = [dictionary.doc2bow(text) for text in text_data]"
      ]
    },
    {
      "cell_type": "code",
      "execution_count": 8,
      "metadata": {},
      "outputs": [],
      "source": [
        "# function for topics printing:\n",
        "from prettytable import PrettyTable\n",
        "import re\n",
        "\n",
        "def table_print(topics):\n",
        "    table = PrettyTable()\n",
        "    table.add_column(\"№ of Topic\", ['1st word', '2nd word', '3rd word', '4th word', '5th word'])\n",
        "    for t in topics:\n",
        "        words = []\n",
        "        vals = []\n",
        "        info = t[1].split(' + ')\n",
        "        for o in info:\n",
        "            words.append(f\"{re.sub('[^A-Za-z]', '', o)}\\n{o[0:5]}\")\n",
        "        table.add_column(f'Topic №{t[0]}',words)\n",
        "    print(table)"
      ]
    },
    {
      "cell_type": "code",
      "execution_count": 9,
      "metadata": {},
      "outputs": [
        {
          "name": "stdout",
          "output_type": "stream",
          "text": [
            "+------------+----------+----------+----------+----------+----------+\n",
            "| № of Topic | Topic №0 | Topic №1 | Topic №2 | Topic №3 | Topic №4 |\n",
            "+------------+----------+----------+----------+----------+----------+\n",
            "|  1st word  |   upon   |  would   |   one    |  could   |   one    |\n",
            "|            |  0.070   |  0.030   |  0.023   |  0.022   |  0.042   |\n",
            "|  2nd word  |   time   |   life   |   man    |   day    |  first   |\n",
            "|            |  0.004   |  0.011   |  0.020   |  0.009   |  0.010   |\n",
            "|  3rd word  |   and    |  could   |  thing   |   time   |   said   |\n",
            "|            |  0.004   |  0.008   |  0.015   |  0.008   |  0.009   |\n",
            "|  4th word  |   thus   |  whose   |   old    |   long   |  seemed  |\n",
            "|            |  0.004   |  0.007   |  0.015   |  0.007   |  0.008   |\n",
            "|  5th word  |   said   |   yet    |   like   |  found   |   must   |\n",
            "|            |  0.004   |  0.007   |  0.013   |  0.006   |  0.007   |\n",
            "+------------+----------+----------+----------+----------+----------+\n"
          ]
        }
      ],
      "source": [
        "\n",
        "nmf_model = Nmf(corpus, num_topics=5, id2word=dictionary)\n",
        "nmf_topics = nmf_model.print_topics(num_words=5)\n",
        "\n",
        "table_print(nmf_topics)\n",
        "\n",
        "\n",
        "coherence_nmf, nmpi_nmf, mass_nmf = calculate_metrics(model=nmf_model, texts=text_data, dictionary=dictionary)"
      ]
    },
    {
      "cell_type": "markdown",
      "metadata": {
        "id": "zuaKAGIWDMVb"
      },
      "source": [
        "#### LDA"
      ]
    },
    {
      "cell_type": "markdown",
      "metadata": {
        "id": "PAK_MfQxDMVb"
      },
      "source": [
        "Implement topic modeling with LDA (you can use gensim implementation) and print out resulting topics. Try to change hyperparameters to better fit the dataset."
      ]
    },
    {
      "cell_type": "code",
      "execution_count": 10,
      "metadata": {
        "id": "fdzopuCJDMVb"
      },
      "outputs": [
        {
          "name": "stdout",
          "output_type": "stream",
          "text": [
            "+------------+----------+----------+----------+----------+----------+\n",
            "| № of Topic | Topic №0 | Topic №1 | Topic №2 | Topic №3 | Topic №4 |\n",
            "+------------+----------+----------+----------+----------+----------+\n",
            "|  1st word  |   upon   |   upon   |   one    |   door   |  could   |\n",
            "|            |  0.009   |  0.006   |  0.010   |  0.006   |  0.009   |\n",
            "|  2nd word  |   one    |   eye    |  would   |   upon   |   man    |\n",
            "|            |  0.007   |  0.005   |  0.008   |  0.004   |  0.006   |\n",
            "|  3rd word  |   must   |   one    |  could   |  little  |   one    |\n",
            "|            |  0.004   |  0.005   |  0.007   |  0.004   |  0.006   |\n",
            "|  4th word  |  could   |  would   |   him    |   dark   |   time   |\n",
            "|            |  0.004   |  0.004   |  0.005   |  0.004   |  0.006   |\n",
            "|  5th word  |   even   |   said   |   said   |   saw    |  thing   |\n",
            "|            |  0.004   |  0.004   |  0.005   |  0.003   |  0.005   |\n",
            "+------------+----------+----------+----------+----------+----------+\n"
          ]
        }
      ],
      "source": [
        "lda_model = LdaModel(corpus, num_topics=5, id2word=dictionary)\n",
        "lda_topics = lda_model.print_topics(num_words=5)\n",
        "\n",
        "table_print(lda_topics)\n",
        "\n",
        "coherence_lda, nmpi_lda, mass_lda = calculate_metrics(model=lda_model, texts=text_data, dictionary=dictionary)"
      ]
    },
    {
      "cell_type": "markdown",
      "metadata": {},
      "source": [
        "## Results"
      ]
    },
    {
      "cell_type": "code",
      "execution_count": 11,
      "metadata": {},
      "outputs": [
        {
          "name": "stdout",
          "output_type": "stream",
          "text": [
            "+-------+--------------------+----------------------+---------------------+\n",
            "| Model | Coherence          | normalized PMI       | PMI                 |\n",
            "+-------+--------------------+----------------------+---------------------+\n",
            "| NMF   | 0.3211862596580549 | -0.03353750605073485 | -3.700806374324773  |\n",
            "| LDA   | 0.198495624725708  | -0.03436656384991676 | -3.6077389129920263 |\n",
            "+-------+--------------------+----------------------+---------------------+\n"
          ]
        }
      ],
      "source": [
        "from prettytable import PrettyTable\n",
        "\n",
        "table = PrettyTable()\n",
        "table.field_names = ['Model', 'Coherence', 'normalized PMI', 'PMI']\n",
        "\n",
        "table.add_rows([['NMF',coherence_nmf.get_coherence(),nmpi_nmf.get_coherence(), mass_nmf.get_coherence()], \n",
        "                ['LDA',coherence_lda.get_coherence(),nmpi_lda.get_coherence(), mass_lda.get_coherence()]])\n",
        "\n",
        "table.align = 'l'\n",
        "print(table)"
      ]
    },
    {
      "cell_type": "markdown",
      "metadata": {
        "id": "vSF6fq0NDMVc"
      },
      "source": [
        "### Additive regularization of topic models "
      ]
    },
    {
      "cell_type": "markdown",
      "metadata": {
        "id": "tVcA4itQDMVc"
      },
      "source": [
        "Implement topic modeling with ARTM. You may use bigartm library (simple installation for linux: pip install bigartm) or TopicNet framework (`https://github.com/machine-intelligence-laboratory/TopicNet`)"
      ]
    },
    {
      "cell_type": "markdown",
      "metadata": {
        "id": "03xhr0PmDMVc"
      },
      "source": [
        "Create artm topic model fit it to the data. Try to change hyperparameters (number of specific and background topics) to better fit the dataset. Play with smoothing and sparsing coefficients (use grid), try to add decorrelator. Print out resulting topics."
      ]
    },
    {
      "cell_type": "markdown",
      "metadata": {},
      "source": [
        "> I've tried. I really tried to install them, but my iMac doesn't support `artm` in anycase("
      ]
    },
    {
      "cell_type": "code",
      "execution_count": 50,
      "metadata": {
        "id": "tgv1qIUZDMVc"
      },
      "outputs": [],
      "source": [
        "# the whole scikit-learn method provided by https://blog.mlreview.com/topic-modeling-with-scikit-learn-e80d33668730\n",
        "from sklearn.feature_extraction.text import TfidfVectorizer, CountVectorizer\n",
        "from sklearn.decomposition import LatentDirichletAllocation as LDA\n",
        "from sklearn.decomposition import NMF\n"
      ]
    },
    {
      "cell_type": "code",
      "execution_count": 51,
      "metadata": {},
      "outputs": [],
      "source": [
        "# function for topics printing:\n",
        "from prettytable import PrettyTable\n",
        "\n",
        "def display_topics(model, feature_names, no_top_words):\n",
        "    table = PrettyTable()\n",
        "    table.add_column(\"№ of Topic\", ['1st word', '2nd word', '3rd word', '4th word', '5th word'])  \n",
        "    top_words = []  \n",
        "    for topic_idx, topic in enumerate(model.components_):\n",
        "        b = [feature_names[i] for i in topic.argsort()[:-no_top_words - 1:-1]]\n",
        "        top_words.append(b)\n",
        "        table.add_column(f'Topic №{topic_idx}',b)\n",
        "    print(table)\n",
        "    return top_words\n"
      ]
    },
    {
      "cell_type": "code",
      "execution_count": 52,
      "metadata": {},
      "outputs": [
        {
          "name": "stderr",
          "output_type": "stream",
          "text": [
            "/opt/homebrew/Caskroom/miniforge/base/lib/python3.9/site-packages/sklearn/utils/deprecation.py:87: FutureWarning: Function get_feature_names is deprecated; get_feature_names is deprecated in 1.0 and will be removed in 1.2. Please use get_feature_names_out instead.\n",
            "  warnings.warn(msg, category=FutureWarning)\n"
          ]
        }
      ],
      "source": [
        "# sklearn text preprocessing. Sklearn LDA and NMF methods supports only sklearn tfidf method\n",
        "no_features = 1000\n",
        "\n",
        "tfidf_vectorizer = TfidfVectorizer(max_df=0.95, min_df=2, max_features=no_features, stop_words='english')\n",
        "tfidf = tfidf_vectorizer.fit_transform(full_text.split())\n",
        "tfidf_feature_names = tfidf_vectorizer.get_feature_names()\n",
        "\n",
        "tf_vectorizer = CountVectorizer(max_df=0.95, min_df=2, max_features=no_features, stop_words='english')\n",
        "tf = tf_vectorizer.fit_transform(full_text.split())\n",
        "tf_feature_names = tf_vectorizer.get_feature_names()\n",
        "\n"
      ]
    },
    {
      "cell_type": "code",
      "execution_count": 53,
      "metadata": {},
      "outputs": [
        {
          "name": "stderr",
          "output_type": "stream",
          "text": [
            "/opt/homebrew/Caskroom/miniforge/base/lib/python3.9/site-packages/sklearn/decomposition/_nmf.py:1422: FutureWarning: `alpha` was deprecated in version 1.0 and will be removed in 1.2. Use `alpha_W` and `alpha_H` instead\n",
            "  warnings.warn(\n"
          ]
        },
        {
          "name": "stdout",
          "output_type": "stream",
          "text": [
            "+------------+----------+----------+----------+----------+----------+\n",
            "| № of Topic | Topic №0 | Topic №1 | Topic №2 | Topic №3 | Topic №4 |\n",
            "+------------+----------+----------+----------+----------+----------+\n",
            "|  1st word  |   time   |   man    |   said   |   day    |  thing   |\n",
            "|  2nd word  |  youth   |  youth   |  youth   |  youth   |  youth   |\n",
            "|  3rd word  |  follow  |   folk   |   folk   |  follow  |  follow  |\n",
            "|  4th word  |  forth   |  formed  |  forth   | fortune  |  forth   |\n",
            "|  5th word  |  formed  |   form   |  formed  |  forth   |  formed  |\n",
            "+------------+----------+----------+----------+----------+----------+\n"
          ]
        },
        {
          "name": "stderr",
          "output_type": "stream",
          "text": [
            "/opt/homebrew/Caskroom/miniforge/base/lib/python3.9/site-packages/sklearn/decomposition/_nmf.py:1637: ConvergenceWarning: Maximum number of iterations 200 reached. Increase it to improve convergence.\n",
            "  warnings.warn(\n"
          ]
        }
      ],
      "source": [
        "# Run NMF\n",
        "nmf = NMF(n_components=5, random_state=1, alpha=.1, l1_ratio=.5, init='nndsvd').fit(tfidf)\n",
        "nmf_tw = display_topics(nmf, tfidf_feature_names, 5)"
      ]
    },
    {
      "cell_type": "code",
      "execution_count": 54,
      "metadata": {},
      "outputs": [
        {
          "name": "stdout",
          "output_type": "stream",
          "text": [
            "+------------+----------+----------+----------+----------+----------+\n",
            "| № of Topic | Topic №0 | Topic №1 | Topic №2 | Topic №3 | Topic №4 |\n",
            "+------------+----------+----------+----------+----------+----------+\n",
            "|  1st word  |   man    |   said   |   time   |   life   |   day    |\n",
            "|  2nd word  |  house   | thought  |   saw    |   like   |  thing   |\n",
            "|  3rd word  |   love   |  death   |  heart   |  night   |   old    |\n",
            "|  4th word  |   far    |  place   |  earth   |  little  |   eye    |\n",
            "|  5th word  |   come   |   men    |   way    |   long   |  great   |\n",
            "+------------+----------+----------+----------+----------+----------+\n"
          ]
        }
      ],
      "source": [
        "# Run LDA\n",
        "lda = LDA(n_components=5, max_iter=5, learning_method='online', learning_offset=50.,random_state=0).fit(tf)\n",
        "lda_tw = display_topics(lda, tf_feature_names, 5)"
      ]
    },
    {
      "cell_type": "markdown",
      "metadata": {
        "id": "mteOYV8TDMVd"
      },
      "source": [
        "Write a function to convert new documents to topics probabilities vectors."
      ]
    },
    {
      "cell_type": "code",
      "execution_count": 28,
      "metadata": {},
      "outputs": [
        {
          "name": "stdout",
          "output_type": "stream",
          "text": [
            "[nan, nan, nan, nan, nan]\n"
          ]
        },
        {
          "name": "stderr",
          "output_type": "stream",
          "text": [
            "/opt/homebrew/Caskroom/miniforge/base/lib/python3.9/site-packages/gensim/topic_coherence/direct_confirmation_measure.py:202: RuntimeWarning: invalid value encountered in true_divide\n",
            "  numerator = (co_occur_count / num_docs) + EPSILON\n",
            "/opt/homebrew/Caskroom/miniforge/base/lib/python3.9/site-packages/gensim/topic_coherence/direct_confirmation_measure.py:203: RuntimeWarning: invalid value encountered in true_divide\n",
            "  denominator = (w_prime_count / num_docs) * (w_star_count / num_docs)\n",
            "/opt/homebrew/Caskroom/miniforge/base/lib/python3.9/site-packages/gensim/topic_coherence/direct_confirmation_measure.py:198: RuntimeWarning: invalid value encountered in true_divide\n",
            "  co_doc_prob = co_occur_count / num_docs\n"
          ]
        }
      ],
      "source": [
        "# Sklearn has no inbox coherence calculation method so I use custom by: \n",
        "# https://stackoverflow.com/questions/60613532/how-do-i-calculate-the-coherence-score-of-an-sklearn-lda-model\n",
        "from tmtoolkit.topicmod.evaluate import metric_coherence_gensim\n",
        "from tmtoolkit.bow.dtm import gensim_corpus_to_dtm\n",
        "import numpy as np\n",
        "\n",
        "# print(tf_vectorizer.vocabulary_.keys())\n",
        "# lda_model - LatentDirichletAllocation()\n",
        "# tf_vectorizer - CountVectorizer()\n",
        "# texts - the list of tokenized words\n",
        "print(metric_coherence_gensim(measure='c_v', \n",
        "                        top_n=5, \n",
        "                        topic_word_distrib=nmf.components_, \n",
        "                        dtm=gensim_corpus_to_dtm(corpus), \n",
        "                        vocab=np.array([x for x in tf_vectorizer.vocabulary_.keys()]), \n",
        "                        texts=full_text.split()))"
      ]
    },
    {
      "cell_type": "markdown",
      "metadata": {},
      "source": [
        "> As You can see it doesn't work..."
      ]
    },
    {
      "cell_type": "code",
      "execution_count": 72,
      "metadata": {},
      "outputs": [],
      "source": [
        "# I tried to use handmade decision for this case: \n",
        "# https://github.com/derekgreene/topic-model-tutorial/blob/master/3%20-%20Parameter%20Selection%20for%20NMF.ipynb\n",
        "\n",
        "from itertools import combinations\n",
        "import numpy as np\n",
        "import gensim\n",
        "\n",
        "w2v_model = gensim.models.Word2Vec(sentences=[full_text.split()], vector_size=500, min_count=1, window=100)\n",
        "\n",
        "def calculate_coherence( w2v_model, term_rankings ):\n",
        "    overall_coherence = 0.0\n",
        "    for topic_index in range(len(term_rankings)):\n",
        "        # check each pair of terms\n",
        "        pair_scores = []\n",
        "        for pair in combinations( term_rankings[topic_index], 2 ):\n",
        "                pair_scores.append( w2v_model.wv.similarity(pair[0], pair[1]) )\n",
        "        # get the mean for all pairs in this topic\n",
        "        topic_score = sum(pair_scores) / len(pair_scores)\n",
        "        overall_coherence += topic_score\n",
        "    # get the mean score across all topics\n",
        "    return overall_coherence / len(term_rankings)"
      ]
    },
    {
      "cell_type": "code",
      "execution_count": 77,
      "metadata": {},
      "outputs": [],
      "source": [
        "lda_coh = calculate_coherence( w2v_model, lda_tw )\n",
        "nmf_coh = calculate_coherence( w2v_model, nmf_tw )"
      ]
    },
    {
      "cell_type": "markdown",
      "metadata": {},
      "source": [
        "> I don't know the real quality of this function, but anyways it works!"
      ]
    },
    {
      "cell_type": "markdown",
      "metadata": {
        "id": "SPrNOdMLDMVd"
      },
      "source": [
        "Calculate the quality scores for each model. Make a barplot to compare the quality."
      ]
    },
    {
      "cell_type": "code",
      "execution_count": 80,
      "metadata": {
        "id": "hQadAQCXDMVd"
      },
      "outputs": [
        {
          "data": {
            "image/png": "[encoded data removed]",
            "text/plain": [
              "<Figure size 1440x720 with 1 Axes>"
            ]
          },
          "metadata": {
            "needs_background": "light"
          },
          "output_type": "display_data"
        }
      ],
      "source": [
        "import matplotlib.pyplot as plt\n",
        "fig = plt.figure(figsize=(20,10))\n",
        "ax = fig.add_axes([0,0,1,1])\n",
        "models = ['Gensim LDA', 'SkLearn LDA', 'Gensim NMF', 'SkLearn NMF']\n",
        "coherences = [coherence_lda.get_coherence(),lda_coh,coherence_nmf.get_coherence(),nmf_coh]\n",
        "colors = ['lightcoral', 'springgreen', 'lightcoral', 'gold']\n",
        "for i, color in enumerate(colors):\n",
        "    ax.bar(models[i],coherences[i], color = color)\n",
        "plt.show()"
      ]
    }
  ],
  "metadata": {
    "colab": {
      "name": "Copy of HW1.ipynb",
      "provenance": []
    },
    "kernelspec": {
      "display_name": "Python 3",
      "language": "python",
      "name": "python3"
    },
    "language_info": {
      "codemirror_mode": {
        "name": "ipython",
        "version": 3
      },
      "file_extension": ".py",
      "mimetype": "text/x-python",
      "name": "python",
      "nbconvert_exporter": "python",
      "pygments_lexer": "ipython3",
      "version": "3.9.10"
    }
  },
  "nbformat": 4,
  "nbformat_minor": 0
}
